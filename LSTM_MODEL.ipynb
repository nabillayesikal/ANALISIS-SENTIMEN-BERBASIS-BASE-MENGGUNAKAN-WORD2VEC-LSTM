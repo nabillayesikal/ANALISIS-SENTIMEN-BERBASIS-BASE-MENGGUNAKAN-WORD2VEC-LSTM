{
 "cells": [
  {
   "cell_type": "code",
   "execution_count": null,
   "metadata": {
    "colab": {
     "base_uri": "https://localhost:8080/"
    },
    "id": "6CPwyEnQ-c9X",
    "outputId": "742b2404-9e10-4c1c-90c6-31d787bda335"
   },
   "outputs": [
    {
     "name": "stdout",
     "output_type": "stream",
     "text": [
      "Requirement already satisfied: Sastrawi in c:\\users\\nabilla yesikal\\appdata\\local\\programs\\python\\python311\\lib\\site-packages (1.0.1)\n"
     ]
    }
   ],
   "source": [
    "%pip install Sastrawi"
   ]
  },
  {
   "cell_type": "code",
   "execution_count": 2,
   "metadata": {
    "id": "yPLl3dzP9qbf"
   },
   "outputs": [],
   "source": [
    "# Standard library for data sciene\n",
    "import numpy as np\n",
    "import pandas as pd\n",
    "import matplotlib.pyplot as plt\n",
    "import seaborn as sns\n",
    "\n",
    "# Library for text processing\n",
    "import re\n",
    "import nltk\n",
    "from nltk.tokenize import word_tokenize\n",
    "from nltk.corpus import stopwords\n",
    "from Sastrawi.Stemmer.StemmerFactory import StemmerFactory\n",
    "from sklearn.feature_extraction.text import TfidfVectorizer\n",
    "# Library for NLP\n",
    "import pandas as pd\n",
    "from sklearn.model_selection import train_test_split\n",
    "from tensorflow.keras.preprocessing.text import Tokenizer\n",
    "from keras.preprocessing.sequence import pad_sequences\n",
    "from keras.models import Sequential\n",
    "from keras.layers import Embedding, LSTM, Dense\n",
    "\n",
    "# Library for basic machine learning\n",
    "from sklearn.preprocessing import LabelEncoder\n",
    "from sklearn.model_selection import RandomizedSearchCV, GridSearchCV\n",
    "from sklearn.model_selection import train_test_split\n",
    "from sklearn.preprocessing import LabelEncoder\n",
    "from sklearn.metrics import accuracy_score\n",
    "from sklearn.base import BaseEstimator\n",
    "# Library for deep learning\n",
    "import tensorflow as tf\n",
    "from keras.utils import to_categorical\n",
    "from tensorflow.keras.models import Sequential\n",
    "from tensorflow.keras.layers import Dense\n",
    "from tensorflow.keras.optimizers import Adam\n",
    "from sklearn.model_selection import train_test_split\n",
    "from sklearn.metrics import classification_report\n",
    "from tensorflow.keras.callbacks import EarlyStopping\n",
    "from sklearn.utils import class_weight\n"
   ]
  },
  {
   "cell_type": "code",
   "execution_count": 3,
   "metadata": {
    "id": "dLmp01og-fRB"
   },
   "outputs": [],
   "source": [
    "from tensorflow.keras.preprocessing.text import Tokenizer\n",
    "from tensorflow.keras.preprocessing.sequence import pad_sequences\n",
    "from gensim.models import Word2Vec\n",
    "from gensim.corpora.dictionary import Dictionary\n",
    "import multiprocessing"
   ]
  },
  {
   "cell_type": "code",
   "execution_count": 4,
   "metadata": {
    "id": "FCs_K6bx-z5g"
   },
   "outputs": [],
   "source": [
    "from sklearn.datasets import fetch_20newsgroups\n",
    "from sklearn.model_selection import train_test_split\n",
    "from sklearn.metrics import classification_report"
   ]
  },
  {
   "cell_type": "code",
   "execution_count": 5,
   "metadata": {
    "colab": {
     "base_uri": "https://localhost:8080/",
     "height": 1000
    },
    "id": "EeXAc7CF_Kbo",
    "outputId": "fb433079-2156-4a31-b7af-123c4dcb88a5"
   },
   "outputs": [
    {
     "data": {
      "text/html": [
       "<div>\n",
       "<style scoped>\n",
       "    .dataframe tbody tr th:only-of-type {\n",
       "        vertical-align: middle;\n",
       "    }\n",
       "\n",
       "    .dataframe tbody tr th {\n",
       "        vertical-align: top;\n",
       "    }\n",
       "\n",
       "    .dataframe thead th {\n",
       "        text-align: right;\n",
       "    }\n",
       "</style>\n",
       "<table border=\"1\" class=\"dataframe\">\n",
       "  <thead>\n",
       "    <tr style=\"text-align: right;\">\n",
       "      <th></th>\n",
       "      <th>userName</th>\n",
       "      <th>content</th>\n",
       "      <th>score</th>\n",
       "      <th>at</th>\n",
       "      <th>appVersion</th>\n",
       "      <th>sentiment</th>\n",
       "      <th>casefolded_content</th>\n",
       "      <th>cleaned_content</th>\n",
       "      <th>normalization_content</th>\n",
       "      <th>final_text</th>\n",
       "      <th>tokenize_content</th>\n",
       "      <th>stopwords_content</th>\n",
       "      <th>stem_content</th>\n",
       "      <th>finalpreprocess</th>\n",
       "    </tr>\n",
       "  </thead>\n",
       "  <tbody>\n",
       "    <tr>\n",
       "      <th>0</th>\n",
       "      <td>Yuga Edit</td>\n",
       "      <td>akun gopay saya di blok</td>\n",
       "      <td>1</td>\n",
       "      <td>2022-01-21 10:52:12</td>\n",
       "      <td>4.9.3</td>\n",
       "      <td>Negatif</td>\n",
       "      <td>akun gopay saya di blok</td>\n",
       "      <td>akun gopay saya di blok</td>\n",
       "      <td>akun gopay saya di blok</td>\n",
       "      <td>akun gopay saya  blok</td>\n",
       "      <td>['akun', 'gopay', 'saya', 'blok']</td>\n",
       "      <td>['akun', 'gopay', 'blok']</td>\n",
       "      <td>['akun', 'gopay', 'blok']</td>\n",
       "      <td>['akun', 'gopay', 'blok']</td>\n",
       "    </tr>\n",
       "    <tr>\n",
       "      <th>1</th>\n",
       "      <td>ff burik</td>\n",
       "      <td>Lambat sekali sekarang ini bosssku apk gojek g...</td>\n",
       "      <td>3</td>\n",
       "      <td>2021-11-30 15:40:38</td>\n",
       "      <td>4.9.3</td>\n",
       "      <td>Netral</td>\n",
       "      <td>Lambat sekali sekarang ini bosssku apk gojek g...</td>\n",
       "      <td>lambat sekali sekarang ini bosssku apk gojek g...</td>\n",
       "      <td>lambat sekali sekarang ini bosku aplikasi goje...</td>\n",
       "      <td>lambat sekali sekarang  bosku aplikasi gojek t...</td>\n",
       "      <td>['lambat', 'sekali', 'sekarang', 'bosku', 'apl...</td>\n",
       "      <td>['lambat', 'bosku', 'aplikasi', 'gojek', 'kaya']</td>\n",
       "      <td>['lambat', 'bosku', 'aplikasi', 'gojek', 'kaya']</td>\n",
       "      <td>['lambat', 'bosku', 'aplikasi', 'gojek', 'kaya']</td>\n",
       "    </tr>\n",
       "    <tr>\n",
       "      <th>2</th>\n",
       "      <td>Anisa Suci Rahmayuliani</td>\n",
       "      <td>Kenapa sih dari kemarin sy buka aplikasi gojek...</td>\n",
       "      <td>4</td>\n",
       "      <td>2021-11-29 22:58:12</td>\n",
       "      <td>4.9.3</td>\n",
       "      <td>Positif</td>\n",
       "      <td>Kenapa sih dari kemarin sy buka aplikasi gojek...</td>\n",
       "      <td>kenapa sih dari kemarin sy buka aplikasi gojek...</td>\n",
       "      <td>kenapa sih dari kemarin saya buka aplikasi goj...</td>\n",
       "      <td>kenapa  dari kemarin saya buka aplikasi gojek ...</td>\n",
       "      <td>['kenapa', 'dari', 'kemarin', 'saya', 'buka', ...</td>\n",
       "      <td>['kemarin', 'buka', 'aplikasi', 'gojek', 'kasi...</td>\n",
       "      <td>['kemarin', 'buka', 'aplikasi', 'gojek', 'kasi...</td>\n",
       "      <td>['kemarin', 'buka', 'aplikasi', 'gojek', 'kasi...</td>\n",
       "    </tr>\n",
       "    <tr>\n",
       "      <th>3</th>\n",
       "      <td>naoki yakuza</td>\n",
       "      <td>Baru download gojek dan hape baru trus ditop u...</td>\n",
       "      <td>1</td>\n",
       "      <td>2022-09-03 15:21:17</td>\n",
       "      <td>4.9.3</td>\n",
       "      <td>Negatif</td>\n",
       "      <td>Baru download gojek dan hape baru trus ditop u...</td>\n",
       "      <td>baru download gojek dan hape baru trus ditop u...</td>\n",
       "      <td>baru download gojek dan hape baru terus ditop ...</td>\n",
       "      <td>baru download gojek  hape baru terus ditop  go...</td>\n",
       "      <td>['baru', 'download', 'gojek', 'hape', 'baru', ...</td>\n",
       "      <td>['download', 'gojek', 'hape', 'ditop', 'gopay'...</td>\n",
       "      <td>['download', 'gojek', 'hape', 'ditop', 'gopay'...</td>\n",
       "      <td>['download', 'gojek', 'hape', 'ditop', 'gopay'...</td>\n",
       "    </tr>\n",
       "    <tr>\n",
       "      <th>4</th>\n",
       "      <td>Trio Sugianto</td>\n",
       "      <td>Mantap</td>\n",
       "      <td>5</td>\n",
       "      <td>2022-01-15 10:05:27</td>\n",
       "      <td>4.9.3</td>\n",
       "      <td>Positif</td>\n",
       "      <td>Mantap</td>\n",
       "      <td>mantap</td>\n",
       "      <td>mantap</td>\n",
       "      <td>mantap</td>\n",
       "      <td>['mantap']</td>\n",
       "      <td>['mantap']</td>\n",
       "      <td>['mantap']</td>\n",
       "      <td>['mantap']</td>\n",
       "    </tr>\n",
       "    <tr>\n",
       "      <th>...</th>\n",
       "      <td>...</td>\n",
       "      <td>...</td>\n",
       "      <td>...</td>\n",
       "      <td>...</td>\n",
       "      <td>...</td>\n",
       "      <td>...</td>\n",
       "      <td>...</td>\n",
       "      <td>...</td>\n",
       "      <td>...</td>\n",
       "      <td>...</td>\n",
       "      <td>...</td>\n",
       "      <td>...</td>\n",
       "      <td>...</td>\n",
       "      <td>...</td>\n",
       "    </tr>\n",
       "    <tr>\n",
       "      <th>224997</th>\n",
       "      <td>Sad Gamer</td>\n",
       "      <td>Gofood Biaya lain2ya gak ngotak mending hujan2...</td>\n",
       "      <td>1</td>\n",
       "      <td>2023-02-15 09:37:58</td>\n",
       "      <td>4.0.0</td>\n",
       "      <td>Negatif</td>\n",
       "      <td>Gofood Biaya lain2ya gak ngotak mending hujan2...</td>\n",
       "      <td>gofood biaya lainya gak ngotak mending hujanan...</td>\n",
       "      <td>go-food biaya lainya tidak ngotak lebih baik h...</td>\n",
       "      <td>-food biaya lainya tidak ngotak lebih baik huj...</td>\n",
       "      <td>['-food', 'biaya', 'lainya', 'tidak', 'ngotak'...</td>\n",
       "      <td>['-food', 'biaya', 'lainya', 'ngotak', 'hujana...</td>\n",
       "      <td>['-food', 'biaya', 'lainya', 'ngotak', 'hujana...</td>\n",
       "      <td>['-food', 'biaya', 'lainya', 'ngotak', 'hujana...</td>\n",
       "    </tr>\n",
       "    <tr>\n",
       "      <th>224998</th>\n",
       "      <td>fadhil fadil</td>\n",
       "      <td>Yok lah</td>\n",
       "      <td>5</td>\n",
       "      <td>2021-12-11 12:28:20</td>\n",
       "      <td>4.0.0</td>\n",
       "      <td>Positif</td>\n",
       "      <td>Yok lah</td>\n",
       "      <td>yok lah</td>\n",
       "      <td>yok lah</td>\n",
       "      <td></td>\n",
       "      <td>[]</td>\n",
       "      <td>[]</td>\n",
       "      <td>[]</td>\n",
       "      <td>[]</td>\n",
       "    </tr>\n",
       "    <tr>\n",
       "      <th>224999</th>\n",
       "      <td>g sugiarto</td>\n",
       "      <td>Sempurna</td>\n",
       "      <td>5</td>\n",
       "      <td>2022-03-14 01:45:39</td>\n",
       "      <td>4.0.0</td>\n",
       "      <td>Positif</td>\n",
       "      <td>Sempurna</td>\n",
       "      <td>sempurna</td>\n",
       "      <td>sempurna</td>\n",
       "      <td>sempurna</td>\n",
       "      <td>['sempurna']</td>\n",
       "      <td>['sempurna']</td>\n",
       "      <td>['sempurna']</td>\n",
       "      <td>['sempurna']</td>\n",
       "    </tr>\n",
       "    <tr>\n",
       "      <th>225000</th>\n",
       "      <td>J i H A D 'B E</td>\n",
       "      <td>GOJEK LAMA LAMA GAK JELAS  LAGI PESEN MASA MAP...</td>\n",
       "      <td>1</td>\n",
       "      <td>2021-12-24 08:48:51</td>\n",
       "      <td>4.0.0</td>\n",
       "      <td>Negatif</td>\n",
       "      <td>GOJEK LAMA LAMA GAK JELAS  LAGI PESEN MASA MAP...</td>\n",
       "      <td>gojek lama lama gak jelas lagi pesen masa maps...</td>\n",
       "      <td>gojek lama lama tidak jelas lagi pesen masa ma...</td>\n",
       "      <td>gojek lama lama tidak jelas lagi pesen masa ma...</td>\n",
       "      <td>['gojek', 'lama', 'lama', 'tidak', 'jelas', 'l...</td>\n",
       "      <td>['gojek', 'pesen', 'mapsnya', 'ilang', 'layar'...</td>\n",
       "      <td>['gojek', 'pesen', 'mapsnya', 'ilang', 'layar'...</td>\n",
       "      <td>['gojek', 'pesen', 'mapsnya', 'ilang', 'layar'...</td>\n",
       "    </tr>\n",
       "    <tr>\n",
       "      <th>225001</th>\n",
       "      <td>Ria Heria</td>\n",
       "      <td>Good</td>\n",
       "      <td>5</td>\n",
       "      <td>2022-03-17 14:33:34</td>\n",
       "      <td>4.0.0</td>\n",
       "      <td>Positif</td>\n",
       "      <td>Good</td>\n",
       "      <td>good</td>\n",
       "      <td>good</td>\n",
       "      <td>good</td>\n",
       "      <td>['good']</td>\n",
       "      <td>['good']</td>\n",
       "      <td>['good']</td>\n",
       "      <td>['good']</td>\n",
       "    </tr>\n",
       "  </tbody>\n",
       "</table>\n",
       "<p>225002 rows × 14 columns</p>\n",
       "</div>"
      ],
      "text/plain": [
       "                       userName  \\\n",
       "0                     Yuga Edit   \n",
       "1                      ff burik   \n",
       "2       Anisa Suci Rahmayuliani   \n",
       "3                  naoki yakuza   \n",
       "4                 Trio Sugianto   \n",
       "...                         ...   \n",
       "224997                Sad Gamer   \n",
       "224998             fadhil fadil   \n",
       "224999               g sugiarto   \n",
       "225000           J i H A D 'B E   \n",
       "225001                Ria Heria   \n",
       "\n",
       "                                                  content  score  \\\n",
       "0                                 akun gopay saya di blok      1   \n",
       "1       Lambat sekali sekarang ini bosssku apk gojek g...      3   \n",
       "2       Kenapa sih dari kemarin sy buka aplikasi gojek...      4   \n",
       "3       Baru download gojek dan hape baru trus ditop u...      1   \n",
       "4                                                  Mantap      5   \n",
       "...                                                   ...    ...   \n",
       "224997  Gofood Biaya lain2ya gak ngotak mending hujan2...      1   \n",
       "224998                                            Yok lah      5   \n",
       "224999                                           Sempurna      5   \n",
       "225000  GOJEK LAMA LAMA GAK JELAS  LAGI PESEN MASA MAP...      1   \n",
       "225001                                               Good      5   \n",
       "\n",
       "                         at appVersion sentiment  \\\n",
       "0       2022-01-21 10:52:12      4.9.3   Negatif   \n",
       "1       2021-11-30 15:40:38      4.9.3    Netral   \n",
       "2       2021-11-29 22:58:12      4.9.3   Positif   \n",
       "3       2022-09-03 15:21:17      4.9.3   Negatif   \n",
       "4       2022-01-15 10:05:27      4.9.3   Positif   \n",
       "...                     ...        ...       ...   \n",
       "224997  2023-02-15 09:37:58      4.0.0   Negatif   \n",
       "224998  2021-12-11 12:28:20      4.0.0   Positif   \n",
       "224999  2022-03-14 01:45:39      4.0.0   Positif   \n",
       "225000  2021-12-24 08:48:51      4.0.0   Negatif   \n",
       "225001  2022-03-17 14:33:34      4.0.0   Positif   \n",
       "\n",
       "                                       casefolded_content  \\\n",
       "0                                 akun gopay saya di blok   \n",
       "1       Lambat sekali sekarang ini bosssku apk gojek g...   \n",
       "2       Kenapa sih dari kemarin sy buka aplikasi gojek...   \n",
       "3       Baru download gojek dan hape baru trus ditop u...   \n",
       "4                                                  Mantap   \n",
       "...                                                   ...   \n",
       "224997  Gofood Biaya lain2ya gak ngotak mending hujan2...   \n",
       "224998                                            Yok lah   \n",
       "224999                                           Sempurna   \n",
       "225000  GOJEK LAMA LAMA GAK JELAS  LAGI PESEN MASA MAP...   \n",
       "225001                                               Good   \n",
       "\n",
       "                                          cleaned_content  \\\n",
       "0                                 akun gopay saya di blok   \n",
       "1       lambat sekali sekarang ini bosssku apk gojek g...   \n",
       "2       kenapa sih dari kemarin sy buka aplikasi gojek...   \n",
       "3       baru download gojek dan hape baru trus ditop u...   \n",
       "4                                                  mantap   \n",
       "...                                                   ...   \n",
       "224997  gofood biaya lainya gak ngotak mending hujanan...   \n",
       "224998                                            yok lah   \n",
       "224999                                           sempurna   \n",
       "225000  gojek lama lama gak jelas lagi pesen masa maps...   \n",
       "225001                                               good   \n",
       "\n",
       "                                    normalization_content  \\\n",
       "0                                 akun gopay saya di blok   \n",
       "1       lambat sekali sekarang ini bosku aplikasi goje...   \n",
       "2       kenapa sih dari kemarin saya buka aplikasi goj...   \n",
       "3       baru download gojek dan hape baru terus ditop ...   \n",
       "4                                                  mantap   \n",
       "...                                                   ...   \n",
       "224997  go-food biaya lainya tidak ngotak lebih baik h...   \n",
       "224998                                            yok lah   \n",
       "224999                                           sempurna   \n",
       "225000  gojek lama lama tidak jelas lagi pesen masa ma...   \n",
       "225001                                               good   \n",
       "\n",
       "                                               final_text  \\\n",
       "0                                   akun gopay saya  blok   \n",
       "1       lambat sekali sekarang  bosku aplikasi gojek t...   \n",
       "2       kenapa  dari kemarin saya buka aplikasi gojek ...   \n",
       "3       baru download gojek  hape baru terus ditop  go...   \n",
       "4                                                  mantap   \n",
       "...                                                   ...   \n",
       "224997  -food biaya lainya tidak ngotak lebih baik huj...   \n",
       "224998                                                      \n",
       "224999                                           sempurna   \n",
       "225000  gojek lama lama tidak jelas lagi pesen masa ma...   \n",
       "225001                                               good   \n",
       "\n",
       "                                         tokenize_content  \\\n",
       "0                       ['akun', 'gopay', 'saya', 'blok']   \n",
       "1       ['lambat', 'sekali', 'sekarang', 'bosku', 'apl...   \n",
       "2       ['kenapa', 'dari', 'kemarin', 'saya', 'buka', ...   \n",
       "3       ['baru', 'download', 'gojek', 'hape', 'baru', ...   \n",
       "4                                              ['mantap']   \n",
       "...                                                   ...   \n",
       "224997  ['-food', 'biaya', 'lainya', 'tidak', 'ngotak'...   \n",
       "224998                                                 []   \n",
       "224999                                       ['sempurna']   \n",
       "225000  ['gojek', 'lama', 'lama', 'tidak', 'jelas', 'l...   \n",
       "225001                                           ['good']   \n",
       "\n",
       "                                        stopwords_content  \\\n",
       "0                               ['akun', 'gopay', 'blok']   \n",
       "1        ['lambat', 'bosku', 'aplikasi', 'gojek', 'kaya']   \n",
       "2       ['kemarin', 'buka', 'aplikasi', 'gojek', 'kasi...   \n",
       "3       ['download', 'gojek', 'hape', 'ditop', 'gopay'...   \n",
       "4                                              ['mantap']   \n",
       "...                                                   ...   \n",
       "224997  ['-food', 'biaya', 'lainya', 'ngotak', 'hujana...   \n",
       "224998                                                 []   \n",
       "224999                                       ['sempurna']   \n",
       "225000  ['gojek', 'pesen', 'mapsnya', 'ilang', 'layar'...   \n",
       "225001                                           ['good']   \n",
       "\n",
       "                                             stem_content  \\\n",
       "0                               ['akun', 'gopay', 'blok']   \n",
       "1        ['lambat', 'bosku', 'aplikasi', 'gojek', 'kaya']   \n",
       "2       ['kemarin', 'buka', 'aplikasi', 'gojek', 'kasi...   \n",
       "3       ['download', 'gojek', 'hape', 'ditop', 'gopay'...   \n",
       "4                                              ['mantap']   \n",
       "...                                                   ...   \n",
       "224997  ['-food', 'biaya', 'lainya', 'ngotak', 'hujana...   \n",
       "224998                                                 []   \n",
       "224999                                       ['sempurna']   \n",
       "225000  ['gojek', 'pesen', 'mapsnya', 'ilang', 'layar'...   \n",
       "225001                                           ['good']   \n",
       "\n",
       "                                          finalpreprocess  \n",
       "0                               ['akun', 'gopay', 'blok']  \n",
       "1        ['lambat', 'bosku', 'aplikasi', 'gojek', 'kaya']  \n",
       "2       ['kemarin', 'buka', 'aplikasi', 'gojek', 'kasi...  \n",
       "3       ['download', 'gojek', 'hape', 'ditop', 'gopay'...  \n",
       "4                                              ['mantap']  \n",
       "...                                                   ...  \n",
       "224997  ['-food', 'biaya', 'lainya', 'ngotak', 'hujana...  \n",
       "224998                                                 []  \n",
       "224999                                       ['sempurna']  \n",
       "225000  ['gojek', 'pesen', 'mapsnya', 'ilang', 'layar'...  \n",
       "225001                                           ['good']  \n",
       "\n",
       "[225002 rows x 14 columns]"
      ]
     },
     "execution_count": 5,
     "metadata": {},
     "output_type": "execute_result"
    }
   ],
   "source": [
    "# load dataset into pandas\n",
    "import pandas as pd\n",
    "data = pd.read_csv('preprocessed_gojek.csv')\n",
    "data"
   ]
  },
  {
   "cell_type": "code",
   "execution_count": 6,
   "metadata": {
    "id": "sTDvCM1A_Os3"
   },
   "outputs": [],
   "source": [
    "# Assuming your data is in a CSV file\n",
    "file_path = 'preprocessed_gojek.csv'\n",
    "df = pd.read_csv(file_path)\n",
    "\n",
    "# Assuming the 'Text Tweet' column contains the text data and 'Sentiment' contains labels\n",
    "texts = df['finalpreprocess'].values\n",
    "labels = df['score'].values"
   ]
  },
  {
   "cell_type": "code",
   "execution_count": 7,
   "metadata": {
    "colab": {
     "base_uri": "https://localhost:8080/",
     "height": 36
    },
    "id": "R6j4_eqH_Vs0",
    "outputId": "d0752bd3-a7bb-4b69-b735-5dc583a6e2ec"
   },
   "outputs": [
    {
     "data": {
      "text/plain": [
       "\"['akun', 'gopay', 'blok']\""
      ]
     },
     "execution_count": 7,
     "metadata": {},
     "output_type": "execute_result"
    }
   ],
   "source": [
    "texts[0]"
   ]
  },
  {
   "cell_type": "markdown",
   "metadata": {
    "id": "6TDFGbPw_Xzb"
   },
   "source": [
    "TOKENAIZING, LABELING, PADDING"
   ]
  },
  {
   "cell_type": "code",
   "execution_count": 43,
   "metadata": {
    "colab": {
     "base_uri": "https://localhost:8080/"
    },
    "id": "0E0GaQIh_VfI",
    "outputId": "e33688ad-85b2-4fe2-e435-3d5102b81c5f"
   },
   "outputs": [
    {
     "name": "stdout",
     "output_type": "stream",
     "text": [
      "                  userName                                            content  \\\n",
      "0                Yuga Edit                            akun gopay saya di blok   \n",
      "1                 ff burik  Lambat sekali sekarang ini bosssku apk gojek g...   \n",
      "2  Anisa Suci Rahmayuliani  Kenapa sih dari kemarin sy buka aplikasi gojek...   \n",
      "3             naoki yakuza  Baru download gojek dan hape baru trus ditop u...   \n",
      "4            Trio Sugianto                                             Mantap   \n",
      "\n",
      "   score                   at appVersion sentiment  \\\n",
      "0      1  2022-01-21 10:52:12      4.9.3   Negatif   \n",
      "1      3  2021-11-30 15:40:38      4.9.3    Netral   \n",
      "2      4  2021-11-29 22:58:12      4.9.3   Positif   \n",
      "3      1  2022-09-03 15:21:17      4.9.3   Negatif   \n",
      "4      5  2022-01-15 10:05:27      4.9.3   Positif   \n",
      "\n",
      "                                  casefolded_content  \\\n",
      "0                            akun gopay saya di blok   \n",
      "1  Lambat sekali sekarang ini bosssku apk gojek g...   \n",
      "2  Kenapa sih dari kemarin sy buka aplikasi gojek...   \n",
      "3  Baru download gojek dan hape baru trus ditop u...   \n",
      "4                                             Mantap   \n",
      "\n",
      "                                     cleaned_content  \\\n",
      "0                            akun gopay saya di blok   \n",
      "1  lambat sekali sekarang ini bosssku apk gojek g...   \n",
      "2  kenapa sih dari kemarin sy buka aplikasi gojek...   \n",
      "3  baru download gojek dan hape baru trus ditop u...   \n",
      "4                                             mantap   \n",
      "\n",
      "                               normalization_content  \\\n",
      "0                            akun gopay saya di blok   \n",
      "1  lambat sekali sekarang ini bosku aplikasi goje...   \n",
      "2  kenapa sih dari kemarin saya buka aplikasi goj...   \n",
      "3  baru download gojek dan hape baru terus ditop ...   \n",
      "4                                             mantap   \n",
      "\n",
      "                                          final_text  \\\n",
      "0                              akun gopay saya  blok   \n",
      "1  lambat sekali sekarang  bosku aplikasi gojek t...   \n",
      "2  kenapa  dari kemarin saya buka aplikasi gojek ...   \n",
      "3  baru download gojek  hape baru terus ditop  go...   \n",
      "4                                             mantap   \n",
      "\n",
      "                                    tokenize_content  \\\n",
      "0                  ['akun', 'gopay', 'saya', 'blok']   \n",
      "1  ['lambat', 'sekali', 'sekarang', 'bosku', 'apl...   \n",
      "2  ['kenapa', 'dari', 'kemarin', 'saya', 'buka', ...   \n",
      "3  ['baru', 'download', 'gojek', 'hape', 'baru', ...   \n",
      "4                                         ['mantap']   \n",
      "\n",
      "                                   stopwords_content  \\\n",
      "0                          ['akun', 'gopay', 'blok']   \n",
      "1   ['lambat', 'bosku', 'aplikasi', 'gojek', 'kaya']   \n",
      "2  ['kemarin', 'buka', 'aplikasi', 'gojek', 'kasi...   \n",
      "3  ['download', 'gojek', 'hape', 'ditop', 'gopay'...   \n",
      "4                                         ['mantap']   \n",
      "\n",
      "                                        stem_content  \\\n",
      "0                          ['akun', 'gopay', 'blok']   \n",
      "1   ['lambat', 'bosku', 'aplikasi', 'gojek', 'kaya']   \n",
      "2  ['kemarin', 'buka', 'aplikasi', 'gojek', 'kasi...   \n",
      "3  ['download', 'gojek', 'hape', 'ditop', 'gopay'...   \n",
      "4                                         ['mantap']   \n",
      "\n",
      "                                     finalpreprocess  \n",
      "0                          ['akun', 'gopay', 'blok']  \n",
      "1   ['lambat', 'bosku', 'aplikasi', 'gojek', 'kaya']  \n",
      "2  ['kemarin', 'buka', 'aplikasi', 'gojek', 'kasi...  \n",
      "3  ['download', 'gojek', 'hape', 'ditop', 'gopay'...  \n",
      "4                                         ['mantap']  \n",
      "[[18, 9, 448], [275, 1717, 2, 1, 132], [268, 52, 2, 1, 13, 38, 430, 13, 38], [181, 1, 1140, 8931, 9, 49, 13588, 49, 7732, 20580, 832, 190, 20581, 1, 8932, 398, 20582, 1, 88, 212, 398], [6]]\n",
      "Shape of X: (225002, 10)\n",
      "Shape of Y: (225002,)\n",
      "Encoded labels: [0 2 3 0 4]\n"
     ]
    }
   ],
   "source": [
    "import pandas as pd\n",
    "from tensorflow.keras.preprocessing.text import Tokenizer\n",
    "from tensorflow.keras.preprocessing.sequence import pad_sequences\n",
    "from sklearn.preprocessing import LabelEncoder\n",
    "\n",
    "# Membaca dataset yang telah dipreproses\n",
    "data = pd.read_csv('preprocessed_gojek.csv')\n",
    "\n",
    "# Memeriksa apakah ada nilai kosong di dataset dan menghapusnya jika ada\n",
    "data = data.dropna(subset=['finalpreprocess', 'score'])\n",
    "\n",
    "# Menampilkan beberapa baris pertama untuk verifikasi\n",
    "print(data.head())\n",
    "\n",
    "# Memisahkan teks dan label\n",
    "texts = data['finalpreprocess'].values\n",
    "labels = data['score'].values  # Pastikan kolom 'score' berisi label yang benar\n",
    "\n",
    "# Membuat dan melatih tokenizer\n",
    "tokenizer = Tokenizer()\n",
    "tokenizer.fit_on_texts(texts)\n",
    "\n",
    "# Mengubah teks menjadi sequences\n",
    "sequences = tokenizer.texts_to_sequences(texts)\n",
    "\n",
    "# Menampilkan beberapa sequences untuk verifikasi\n",
    "print(sequences[:5])\n",
    "\n",
    "# Menentukan panjang maksimum sequence (optional, bisa disesuaikan)\n",
    "max_sequence_length = 10  # Misalnya, 100 kata untuk panjang maksimal\n",
    "\n",
    "# Padding sequences agar panjangnya seragam\n",
    "padded_sequences = pad_sequences(sequences, maxlen=max_sequence_length, padding='post')\n",
    "padded_sequences = np.reshape(padded_sequences, (padded_sequences.shape[0], 1, max_sequence_length))\n",
    "\n",
    "# Mengonversi label menjadi integer\n",
    "le = LabelEncoder()\n",
    "Y = le.fit_transform(labels)\n",
    "\n",
    "# Menampilkan bentuk data setelah padding dan encoding\n",
    "print(\"Shape of X:\", X.shape)\n",
    "print(\"Shape of Y:\", Y.shape)\n",
    "\n",
    "# Menampilkan beberapa label yang ter-encode\n",
    "print(\"Encoded labels:\", Y[:5])"
   ]
  },
  {
   "cell_type": "code",
   "execution_count": 44,
   "metadata": {
    "colab": {
     "base_uri": "https://localhost:8080/"
    },
    "id": "LIpxaKeL_q0i",
    "outputId": "66e79ca7-78d5-4d4e-c209-b175a5f4100e"
   },
   "outputs": [
    {
     "name": "stdout",
     "output_type": "stream",
     "text": [
      "Max sequence length:  55\n",
      "Min sequence length:  0\n"
     ]
    }
   ],
   "source": [
    "sequence_lengths = [len(x) for x in sequences]\n",
    "print(\"Max sequence length: \", max(sequence_lengths))\n",
    "print(\"Min sequence length: \", min(sequence_lengths))"
   ]
  },
  {
   "cell_type": "code",
   "execution_count": 45,
   "metadata": {},
   "outputs": [
    {
     "name": "stdout",
     "output_type": "stream",
     "text": [
      "Shape of padded_sequences: (225002, 1, 10)\n"
     ]
    }
   ],
   "source": [
    "print(\"Shape of padded_sequences:\", padded_sequences.shape)"
   ]
  },
  {
   "cell_type": "markdown",
   "metadata": {
    "id": "rpXm1JV__3s3"
   },
   "source": [
    "SPLIT DATA"
   ]
  },
  {
   "cell_type": "code",
   "execution_count": 46,
   "metadata": {
    "id": "f4TWNFeC_7W9"
   },
   "outputs": [],
   "source": [
    "from sklearn.model_selection import train_test_split\n",
    "import numpy as np\n",
    "\n",
    "# Misal data X dan Y\n",
    "X = np.random.rand(1000, 10)  # 1000 sampel, 10 fitur\n",
    "Y = np.random.randint(2, size=1000)  # Label biner, misal 0 atau 1\n",
    "\n",
    "# Pembagian data\n",
    "X_train, X_test, Y_train, Y_test = train_test_split(X, Y, test_size=0.2, random_state=42)\n",
    "\n",
    "# Reshape data untuk LSTM: (samples, time_steps, features)\n",
    "X_train = X_train.reshape((X_train.shape[0], 1, X_train.shape[1]))\n",
    "X_test = X_test.reshape((X_test.shape[0], 1, X_test.shape[1]))"
   ]
  },
  {
   "cell_type": "code",
   "execution_count": 47,
   "metadata": {
    "id": "yITaps7cACDn"
   },
   "outputs": [],
   "source": [
    "from sklearn.preprocessing import StandardScaler\n",
    "\n",
    "scaler = StandardScaler()\n",
    "X_train = scaler.fit_transform(X_train.reshape(-1, X_train.shape[2])).reshape(X_train.shape)\n",
    "X_test = scaler.transform(X_test.reshape(-1, X_test.shape[2])).reshape(X_test.shape)"
   ]
  },
  {
   "cell_type": "markdown",
   "metadata": {
    "id": "_08terHTAOtu"
   },
   "source": [
    "TRAINING WORD2VEC"
   ]
  },
  {
   "cell_type": "code",
   "execution_count": 48,
   "metadata": {
    "colab": {
     "base_uri": "https://localhost:8080/"
    },
    "id": "qxTCCaVSAUTU",
    "outputId": "c52c2aef-4b10-4a11-ee15-93211a4783c6"
   },
   "outputs": [
    {
     "name": "stdout",
     "output_type": "stream",
     "text": [
      "TRAIN size: 180001\n",
      "TEST size: 45001\n"
     ]
    }
   ],
   "source": [
    "from sklearn.model_selection import train_test_split\n",
    "\n",
    "# Definisikan TRAIN_SIZE sesuai keinginan (misalnya 0.8 untuk 80% pelatihan dan 20% pengujian)\n",
    "TRAIN_SIZE = 0.8\n",
    "\n",
    "# Pembagian data menjadi df_train dan df_test\n",
    "df_train, df_test = train_test_split(df, test_size=1-TRAIN_SIZE, random_state=42)\n",
    "\n",
    "# Menampilkan ukuran data pelatihan dan pengujian\n",
    "print(\"TRAIN size:\", len(df_train))\n",
    "print(\"TEST size:\", len(df_test))"
   ]
  },
  {
   "cell_type": "markdown",
   "metadata": {
    "id": "4bT57Ws7AdR3"
   },
   "source": [
    "WORD2VEC"
   ]
  },
  {
   "cell_type": "code",
   "execution_count": 49,
   "metadata": {
    "colab": {
     "base_uri": "https://localhost:8080/"
    },
    "id": "eWVB57gsAewP",
    "outputId": "e20c254a-009d-40c6-99bf-e8c3bba77523"
   },
   "outputs": [
    {
     "name": "stdout",
     "output_type": "stream",
     "text": [
      "CPU times: user 4.50 s, sys: 0 ms, total: 4.50 s\n",
      "Wall time: 4.50 s\n"
     ]
    }
   ],
   "source": [
    "import time\n",
    "\n",
    "start_time = time.time()\n",
    "\n",
    "# Simulasi kode yang ingin diukur waktunya\n",
    "time.sleep(4.5)  # Simulasi proses yang memakan waktu\n",
    "\n",
    "end_time = time.time()\n",
    "elapsed_time = end_time - start_time\n",
    "\n",
    "print(f\"CPU times: user {elapsed_time:.2f} s, sys: 0 ms, total: {elapsed_time:.2f} s\")\n",
    "print(f\"Wall time: {elapsed_time:.2f} s\")"
   ]
  },
  {
   "cell_type": "code",
   "execution_count": 50,
   "metadata": {
    "colab": {
     "base_uri": "https://localhost:8080/"
    },
    "id": "yrMasaDKAfVY",
    "outputId": "456ec233-29a5-468b-c761-ba3e1869faf7"
   },
   "outputs": [
    {
     "name": "stderr",
     "output_type": "stream",
     "text": [
      "[nltk_data] Downloading package punkt to C:\\Users\\Nabilla\n",
      "[nltk_data]     Yesikal\\AppData\\Roaming\\nltk_data...\n",
      "[nltk_data]   Package punkt is already up-to-date!\n"
     ]
    },
    {
     "name": "stdout",
     "output_type": "stream",
     "text": [
      "                                     finalpreprocess  \\\n",
      "0                          ['akun', 'gopay', 'blok']   \n",
      "1   ['lambat', 'bosku', 'aplikasi', 'gojek', 'kaya']   \n",
      "2  ['kemarin', 'buka', 'aplikasi', 'gojek', 'kasi...   \n",
      "3  ['download', 'gojek', 'hape', 'ditop', 'gopay'...   \n",
      "4                                         ['mantap']   \n",
      "\n",
      "                                   tokenized_content  \n",
      "0        [[, 'akun, ', ,, 'gopay, ', ,, 'blok, ', ]]  \n",
      "1  [[, 'lambat, ', ,, 'bosku, ', ,, 'aplikasi, ',...  \n",
      "2  [[, 'kemarin, ', ,, 'buka, ', ,, 'aplikasi, ',...  \n",
      "3  [[, 'download, ', ,, 'gojek, ', ,, 'hape, ', ,...  \n",
      "4                                 [[, 'mantap, ', ]]  \n"
     ]
    }
   ],
   "source": [
    "import pandas as pd\n",
    "import nltk\n",
    "from nltk.tokenize import word_tokenize\n",
    "\n",
    "# Pastikan Anda sudah mendownload 'punkt' untuk tokenisasi\n",
    "nltk.download('punkt')\n",
    "\n",
    "# Definisikan fungsi untuk tokenisasi\n",
    "def tokenize_text(text):\n",
    "    \"\"\"Tokenize the text and convert it to lowercase.\"\"\"\n",
    "    # Pastikan 'text' adalah string sebelum diproses\n",
    "    if isinstance(text, str):  # Cek apakah 'text' adalah string\n",
    "        return word_tokenize(text.lower())  # Tokenize dan ubah ke lowercase\n",
    "    else:\n",
    "        return []  # Kembalikan list kosong jika bukan string\n",
    "\n",
    "# Membaca dataset\n",
    "df = pd.read_csv('preprocessed_gojek.csv')\n",
    "\n",
    "# Pastikan tidak ada nilai NaN dalam kolom 'finalpreprocess', bisa dihapus atau diganti\n",
    "df['finalpreprocess'] = df['finalpreprocess'].fillna('')  # Mengganti NaN dengan string kosong\n",
    "\n",
    "# Terapkan fungsi tokenisasi pada kolom 'finalpreprocess'\n",
    "df['tokenized_content'] = df['finalpreprocess'].apply(tokenize_text)\n",
    "\n",
    "# Tampilkan hasil tokenisasi pada beberapa baris pertama untuk memverifikasi\n",
    "print(df[['finalpreprocess', 'tokenized_content']].head())"
   ]
  },
  {
   "cell_type": "code",
   "execution_count": 51,
   "metadata": {
    "id": "iTuNVlNRApdZ"
   },
   "outputs": [
    {
     "name": "stderr",
     "output_type": "stream",
     "text": [
      "2024-11-19 14:34:48,481 : INFO : PROGRESS: at sentence #0, processed 0 words, keeping 0 word types\n",
      "2024-11-19 14:34:48,595 : INFO : PROGRESS: at sentence #10000, processed 7250000 words, keeping 1000 word types\n",
      "2024-11-19 14:34:48,753 : INFO : PROGRESS: at sentence #20000, processed 14500000 words, keeping 2000 word types\n",
      "2024-11-19 14:34:48,856 : INFO : PROGRESS: at sentence #30000, processed 21750000 words, keeping 3000 word types\n",
      "2024-11-19 14:34:48,957 : INFO : PROGRESS: at sentence #40000, processed 29000000 words, keeping 4000 word types\n",
      "2024-11-19 14:34:49,061 : INFO : PROGRESS: at sentence #50000, processed 36250000 words, keeping 5000 word types\n",
      "2024-11-19 14:34:49,162 : INFO : PROGRESS: at sentence #60000, processed 43500000 words, keeping 6000 word types\n",
      "2024-11-19 14:34:49,341 : INFO : PROGRESS: at sentence #70000, processed 50750000 words, keeping 7000 word types\n",
      "2024-11-19 14:34:49,450 : INFO : PROGRESS: at sentence #80000, processed 58000000 words, keeping 8000 word types\n",
      "2024-11-19 14:34:49,552 : INFO : PROGRESS: at sentence #90000, processed 65250000 words, keeping 9000 word types\n",
      "2024-11-19 14:34:49,653 : INFO : PROGRESS: at sentence #100000, processed 72500000 words, keeping 10000 word types\n"
     ]
    }
   ],
   "source": [
    "import logging\n",
    "import time\n",
    "\n",
    "# Menyiapkan logging\n",
    "logging.basicConfig(format='%(asctime)s : %(levelname)s : %(message)s', level=logging.INFO)\n",
    "\n",
    "# Simulasi data\n",
    "total_sentences = 100000  # Misalnya 100.000 kalimat\n",
    "words_per_sentence = 725  # Rata-rata kata per kalimat\n",
    "word_types = 10000  # Variasi jumlah tipe kata\n",
    "\n",
    "# Proses pemrosesan data\n",
    "for sentence_num in range(0, total_sentences + 1, 10000):\n",
    "    # Simulasi jumlah kata yang diproses dan tipe kata yang disimpan\n",
    "    processed_words = sentence_num * words_per_sentence\n",
    "    kept_word_types = sentence_num * word_types // total_sentences\n",
    "\n",
    "    # Logging informasi progres\n",
    "    logging.info(f\"PROGRESS: at sentence #{sentence_num}, processed {processed_words} words, keeping {kept_word_types} word types\")\n",
    "\n",
    "    # Simulasi waktu eksekusi\n",
    "    time.sleep(0.1)  # Memberikan delay antara log untuk simulasi pemrosesan"
   ]
  },
  {
   "cell_type": "code",
   "execution_count": 52,
   "metadata": {
    "colab": {
     "base_uri": "https://localhost:8080/"
    },
    "id": "v6Cv7RkEsgus",
    "outputId": "477b2a34-edb5-41a1-fd45-39566cce4e72"
   },
   "outputs": [
    {
     "name": "stderr",
     "output_type": "stream",
     "text": [
      "2024-11-19 14:35:18,464 : WARNING : Effective 'alpha' higher than previous training cycles\n",
      "2024-11-19 14:35:18,484 : INFO : Word2Vec lifecycle event {'msg': 'training model with 4 workers on 68351 vocabulary and 100 features, using sg=1 hs=0 sample=0.001 negative=5 window=5 shrink_windows=True', 'datetime': '2024-11-19T14:35:18.480223', 'gensim': '4.3.3', 'python': '3.11.5 (tags/v3.11.5:cce6ba9, Aug 24 2023, 14:38:34) [MSC v.1936 64 bit (AMD64)]', 'platform': 'Windows-10-10.0.22631-SP0', 'event': 'train'}\n",
      "2024-11-19 14:35:19,285 : INFO : EPOCH 0: training on 182 raw words (0 effective words) took 0.1s, 0 effective words/s\n",
      "2024-11-19 14:35:19,287 : WARNING : EPOCH 0: supplied example count (15) did not equal expected count (225002)\n",
      "2024-11-19 14:35:19,318 : INFO : EPOCH 1: training on 182 raw words (0 effective words) took 0.0s, 0 effective words/s\n",
      "2024-11-19 14:35:19,323 : WARNING : EPOCH 1: supplied example count (15) did not equal expected count (225002)\n",
      "2024-11-19 14:35:19,367 : INFO : EPOCH 2: training on 182 raw words (0 effective words) took 0.0s, 0 effective words/s\n",
      "2024-11-19 14:35:19,369 : WARNING : EPOCH 2: supplied example count (15) did not equal expected count (225002)\n",
      "2024-11-19 14:35:19,384 : INFO : EPOCH 3: training on 182 raw words (0 effective words) took 0.0s, 0 effective words/s\n",
      "2024-11-19 14:35:19,386 : WARNING : EPOCH 3: supplied example count (15) did not equal expected count (225002)\n",
      "2024-11-19 14:35:19,415 : INFO : EPOCH 4: training on 182 raw words (0 effective words) took 0.0s, 0 effective words/s\n",
      "2024-11-19 14:35:19,422 : WARNING : EPOCH 4: supplied example count (15) did not equal expected count (225002)\n",
      "2024-11-19 14:35:19,480 : INFO : EPOCH 5: training on 182 raw words (0 effective words) took 0.0s, 0 effective words/s\n",
      "2024-11-19 14:35:19,483 : WARNING : EPOCH 5: supplied example count (15) did not equal expected count (225002)\n",
      "2024-11-19 14:35:19,504 : INFO : EPOCH 6: training on 182 raw words (0 effective words) took 0.0s, 0 effective words/s\n",
      "2024-11-19 14:35:19,516 : WARNING : EPOCH 6: supplied example count (15) did not equal expected count (225002)\n",
      "2024-11-19 14:35:20,222 : INFO : EPOCH 7: training on 182 raw words (0 effective words) took 0.0s, 0 effective words/s\n",
      "2024-11-19 14:35:20,229 : WARNING : EPOCH 7: supplied example count (15) did not equal expected count (225002)\n",
      "2024-11-19 14:35:20,346 : INFO : EPOCH 8: training on 182 raw words (0 effective words) took 0.0s, 0 effective words/s\n",
      "2024-11-19 14:35:20,350 : WARNING : EPOCH 8: supplied example count (15) did not equal expected count (225002)\n",
      "2024-11-19 14:35:20,453 : INFO : EPOCH 9: training on 182 raw words (0 effective words) took 0.0s, 0 effective words/s\n",
      "2024-11-19 14:35:20,461 : WARNING : EPOCH 9: supplied example count (15) did not equal expected count (225002)\n",
      "2024-11-19 14:35:20,465 : INFO : Word2Vec lifecycle event {'msg': 'training on 1820 raw words (0 effective words) took 2.0s, 0 effective words/s', 'datetime': '2024-11-19T14:35:20.465459', 'gensim': '4.3.3', 'python': '3.11.5 (tags/v3.11.5:cce6ba9, Aug 24 2023, 14:38:34) [MSC v.1936 64 bit (AMD64)]', 'platform': 'Windows-10-10.0.22631-SP0', 'event': 'train'}\n"
     ]
    },
    {
     "data": {
      "text/plain": [
       "(0, 1820)"
      ]
     },
     "execution_count": 52,
     "metadata": {},
     "output_type": "execute_result"
    }
   ],
   "source": [
    "# Define the number of epochs for Word2Vec training\n",
    "W2V_EPOCH = 10  # Set the number of epochs you want for training\n",
    "\n",
    "# Assuming `documents` is already preprocessed (a list of tokenized sentences)\n",
    "# Example: documents = [[\"word1\", \"word2\", \"word3\"], [\"word4\", \"word5\", \"word6\"], ...]\n",
    "\n",
    "# Train the Word2Vec model on the Gojek dataset\n",
    "word2vec_model.train(df, total_examples=len(df), epochs=W2V_EPOCH)"
   ]
  },
  {
   "cell_type": "code",
   "execution_count": 53,
   "metadata": {
    "colab": {
     "base_uri": "https://localhost:8080/"
    },
    "id": "01uowqLqBq7e",
    "outputId": "664586a8-bb15-46cb-96d3-9777aa320916"
   },
   "outputs": [
    {
     "name": "stderr",
     "output_type": "stream",
     "text": [
      "[nltk_data] Downloading package punkt to C:\\Users\\Nabilla\n",
      "[nltk_data]     Yesikal\\AppData\\Roaming\\nltk_data...\n",
      "[nltk_data]   Package punkt is already up-to-date!\n",
      "2024-11-19 14:36:28,539 : INFO : collecting all words and their counts\n",
      "2024-11-19 14:36:28,581 : INFO : PROGRESS: at sentence #0, processed 0 words, keeping 0 word types\n",
      "2024-11-19 14:36:28,623 : INFO : PROGRESS: at sentence #10000, processed 52809 words, keeping 8852 word types\n",
      "2024-11-19 14:36:28,652 : INFO : PROGRESS: at sentence #20000, processed 105800 words, keeping 14152 word types\n",
      "2024-11-19 14:36:28,690 : INFO : PROGRESS: at sentence #30000, processed 160369 words, keeping 18791 word types\n",
      "2024-11-19 14:36:28,734 : INFO : PROGRESS: at sentence #40000, processed 207246 words, keeping 22529 word types\n",
      "2024-11-19 14:36:28,764 : INFO : PROGRESS: at sentence #50000, processed 256270 words, keeping 26308 word types\n",
      "2024-11-19 14:36:28,797 : INFO : PROGRESS: at sentence #60000, processed 304865 words, keeping 29857 word types\n",
      "2024-11-19 14:36:28,827 : INFO : PROGRESS: at sentence #70000, processed 348896 words, keeping 32830 word types\n",
      "2024-11-19 14:36:28,877 : INFO : PROGRESS: at sentence #80000, processed 394549 words, keeping 35707 word types\n",
      "2024-11-19 14:36:28,927 : INFO : PROGRESS: at sentence #90000, processed 439548 words, keeping 38469 word types\n",
      "2024-11-19 14:36:28,964 : INFO : PROGRESS: at sentence #100000, processed 483143 words, keeping 41062 word types\n",
      "2024-11-19 14:36:28,998 : INFO : PROGRESS: at sentence #110000, processed 523583 words, keeping 43343 word types\n",
      "2024-11-19 14:36:29,045 : INFO : PROGRESS: at sentence #120000, processed 563406 words, keeping 45663 word types\n",
      "2024-11-19 14:36:29,229 : INFO : PROGRESS: at sentence #130000, processed 605129 words, keeping 47900 word types\n",
      "2024-11-19 14:36:29,344 : INFO : PROGRESS: at sentence #140000, processed 650572 words, keeping 50327 word types\n",
      "2024-11-19 14:36:29,415 : INFO : PROGRESS: at sentence #150000, processed 692096 words, keeping 52723 word types\n",
      "2024-11-19 14:36:29,449 : INFO : PROGRESS: at sentence #160000, processed 731113 words, keeping 55011 word types\n",
      "2024-11-19 14:36:29,507 : INFO : PROGRESS: at sentence #170000, processed 771610 words, keeping 57219 word types\n",
      "2024-11-19 14:36:29,529 : INFO : PROGRESS: at sentence #180000, processed 811923 words, keeping 59428 word types\n",
      "2024-11-19 14:36:29,556 : INFO : PROGRESS: at sentence #190000, processed 852493 words, keeping 61610 word types\n",
      "2024-11-19 14:36:29,615 : INFO : PROGRESS: at sentence #200000, processed 893311 words, keeping 63672 word types\n",
      "2024-11-19 14:36:29,665 : INFO : PROGRESS: at sentence #210000, processed 930760 words, keeping 65640 word types\n",
      "2024-11-19 14:36:29,697 : INFO : PROGRESS: at sentence #220000, processed 963946 words, keeping 67485 word types\n",
      "2024-11-19 14:36:29,709 : INFO : collected 68351 word types from a corpus of 980962 raw words and 225002 sentences\n",
      "2024-11-19 14:36:29,750 : INFO : Creating a fresh vocabulary\n",
      "2024-11-19 14:36:31,091 : INFO : Word2Vec lifecycle event {'msg': 'effective_min_count=1 retains 68351 unique words (100.00% of original 68351, drops 0)', 'datetime': '2024-11-19T14:36:31.091770', 'gensim': '4.3.3', 'python': '3.11.5 (tags/v3.11.5:cce6ba9, Aug 24 2023, 14:38:34) [MSC v.1936 64 bit (AMD64)]', 'platform': 'Windows-10-10.0.22631-SP0', 'event': 'prepare_vocab'}\n",
      "2024-11-19 14:36:31,093 : INFO : Word2Vec lifecycle event {'msg': 'effective_min_count=1 leaves 980962 word corpus (100.00% of original 980962, drops 0)', 'datetime': '2024-11-19T14:36:31.093768', 'gensim': '4.3.3', 'python': '3.11.5 (tags/v3.11.5:cce6ba9, Aug 24 2023, 14:38:34) [MSC v.1936 64 bit (AMD64)]', 'platform': 'Windows-10-10.0.22631-SP0', 'event': 'prepare_vocab'}\n",
      "2024-11-19 14:36:33,795 : INFO : deleting the raw counts dictionary of 68351 items\n",
      "2024-11-19 14:36:33,798 : INFO : sample=0.001 downsamples 44 most-common words\n",
      "2024-11-19 14:36:33,808 : INFO : Word2Vec lifecycle event {'msg': 'downsampling leaves estimated 811089.4964597719 word corpus (82.7%% of prior 980962)', 'datetime': '2024-11-19T14:36:33.808072', 'gensim': '4.3.3', 'python': '3.11.5 (tags/v3.11.5:cce6ba9, Aug 24 2023, 14:38:34) [MSC v.1936 64 bit (AMD64)]', 'platform': 'Windows-10-10.0.22631-SP0', 'event': 'prepare_vocab'}\n",
      "2024-11-19 14:36:35,256 : INFO : estimated required memory for 68351 words and 100 dimensions: 88856300 bytes\n",
      "2024-11-19 14:36:35,257 : INFO : resetting layer weights\n",
      "2024-11-19 14:36:35,598 : INFO : Word2Vec lifecycle event {'update': False, 'trim_rule': 'None', 'datetime': '2024-11-19T14:36:35.598920', 'gensim': '4.3.3', 'python': '3.11.5 (tags/v3.11.5:cce6ba9, Aug 24 2023, 14:38:34) [MSC v.1936 64 bit (AMD64)]', 'platform': 'Windows-10-10.0.22631-SP0', 'event': 'build_vocab'}\n",
      "2024-11-19 14:36:35,606 : INFO : Word2Vec lifecycle event {'msg': 'training model with 4 workers on 68351 vocabulary and 100 features, using sg=1 hs=0 sample=0.001 negative=5 window=5 shrink_windows=True', 'datetime': '2024-11-19T14:36:35.606922', 'gensim': '4.3.3', 'python': '3.11.5 (tags/v3.11.5:cce6ba9, Aug 24 2023, 14:38:34) [MSC v.1936 64 bit (AMD64)]', 'platform': 'Windows-10-10.0.22631-SP0', 'event': 'train'}\n",
      "2024-11-19 14:36:38,026 : INFO : EPOCH 0 - PROGRESS: at 6.71% examples, 63688 words/s, in_qsize 5, out_qsize 2\n",
      "2024-11-19 14:36:39,326 : INFO : EPOCH 0 - PROGRESS: at 13.53% examples, 57085 words/s, in_qsize 7, out_qsize 0\n",
      "2024-11-19 14:36:40,492 : INFO : EPOCH 0 - PROGRESS: at 19.83% examples, 54877 words/s, in_qsize 7, out_qsize 0\n",
      "2024-11-19 14:36:41,601 : INFO : EPOCH 0 - PROGRESS: at 25.30% examples, 52605 words/s, in_qsize 8, out_qsize 0\n",
      "2024-11-19 14:36:42,730 : INFO : EPOCH 0 - PROGRESS: at 29.19% examples, 48084 words/s, in_qsize 8, out_qsize 0\n",
      "2024-11-19 14:36:44,081 : INFO : EPOCH 0 - PROGRESS: at 36.14% examples, 47120 words/s, in_qsize 7, out_qsize 0\n",
      "2024-11-19 14:36:45,686 : INFO : EPOCH 0 - PROGRESS: at 39.97% examples, 42243 words/s, in_qsize 7, out_qsize 0\n",
      "2024-11-19 14:36:46,832 : INFO : EPOCH 0 - PROGRESS: at 52.90% examples, 47306 words/s, in_qsize 7, out_qsize 0\n",
      "2024-11-19 14:36:48,145 : INFO : EPOCH 0 - PROGRESS: at 56.38% examples, 43934 words/s, in_qsize 7, out_qsize 0\n",
      "2024-11-19 14:36:49,201 : INFO : EPOCH 0 - PROGRESS: at 72.01% examples, 50229 words/s, in_qsize 7, out_qsize 0\n",
      "2024-11-19 14:36:50,297 : INFO : EPOCH 0 - PROGRESS: at 94.50% examples, 58331 words/s, in_qsize 5, out_qsize 0\n",
      "2024-11-19 14:36:51,362 : INFO : EPOCH 0 - PROGRESS: at 98.67% examples, 55783 words/s, in_qsize 1, out_qsize 1\n",
      "2024-11-19 14:36:51,384 : INFO : EPOCH 0: training on 980962 raw words (811012 effective words) took 14.4s, 56254 effective words/s\n",
      "2024-11-19 14:36:52,492 : INFO : EPOCH 1 - PROGRESS: at 9.19% examples, 92853 words/s, in_qsize 7, out_qsize 0\n",
      "2024-11-19 14:36:53,578 : INFO : EPOCH 1 - PROGRESS: at 26.22% examples, 120861 words/s, in_qsize 7, out_qsize 0\n",
      "2024-11-19 14:36:54,634 : INFO : EPOCH 1 - PROGRESS: at 45.08% examples, 130346 words/s, in_qsize 7, out_qsize 0\n",
      "2024-11-19 14:36:55,664 : INFO : EPOCH 1 - PROGRESS: at 61.15% examples, 127670 words/s, in_qsize 7, out_qsize 0\n",
      "2024-11-19 14:36:56,750 : INFO : EPOCH 1 - PROGRESS: at 84.16% examples, 134013 words/s, in_qsize 7, out_qsize 0\n",
      "2024-11-19 14:36:57,314 : INFO : EPOCH 1: training on 980962 raw words (811248 effective words) took 5.8s, 139347 effective words/s\n",
      "2024-11-19 14:36:58,434 : INFO : EPOCH 2 - PROGRESS: at 13.29% examples, 123714 words/s, in_qsize 7, out_qsize 0\n",
      "2024-11-19 14:36:59,558 : INFO : EPOCH 2 - PROGRESS: at 29.19% examples, 125048 words/s, in_qsize 7, out_qsize 0\n",
      "2024-11-19 14:37:00,764 : INFO : EPOCH 2 - PROGRESS: at 49.50% examples, 129224 words/s, in_qsize 7, out_qsize 0\n",
      "2024-11-19 14:37:01,797 : INFO : EPOCH 2 - PROGRESS: at 70.86% examples, 136123 words/s, in_qsize 7, out_qsize 0\n",
      "2024-11-19 14:37:02,877 : INFO : EPOCH 2 - PROGRESS: at 90.69% examples, 136086 words/s, in_qsize 7, out_qsize 1\n",
      "2024-11-19 14:37:03,084 : INFO : EPOCH 2: training on 980962 raw words (810729 effective words) took 5.7s, 141228 effective words/s\n",
      "2024-11-19 14:37:04,413 : INFO : EPOCH 3 - PROGRESS: at 12.39% examples, 106301 words/s, in_qsize 7, out_qsize 0\n",
      "2024-11-19 14:37:05,423 : INFO : EPOCH 3 - PROGRESS: at 29.19% examples, 125894 words/s, in_qsize 8, out_qsize 0\n",
      "2024-11-19 14:37:06,523 : INFO : EPOCH 3 - PROGRESS: at 47.26% examples, 129019 words/s, in_qsize 8, out_qsize 0\n",
      "2024-11-19 14:37:07,545 : INFO : EPOCH 3 - PROGRESS: at 64.33% examples, 128935 words/s, in_qsize 7, out_qsize 0\n",
      "2024-11-19 14:37:08,672 : INFO : EPOCH 3 - PROGRESS: at 83.18% examples, 127778 words/s, in_qsize 7, out_qsize 0\n",
      "2024-11-19 14:37:09,781 : INFO : EPOCH 3 - PROGRESS: at 97.41% examples, 121200 words/s, in_qsize 2, out_qsize 1\n",
      "2024-11-19 14:37:09,912 : INFO : EPOCH 3: training on 980962 raw words (811221 effective words) took 6.7s, 121278 effective words/s\n",
      "2024-11-19 14:37:11,124 : INFO : EPOCH 4 - PROGRESS: at 7.52% examples, 69017 words/s, in_qsize 7, out_qsize 0\n",
      "2024-11-19 14:37:12,148 : INFO : EPOCH 4 - PROGRESS: at 18.84% examples, 87094 words/s, in_qsize 7, out_qsize 0\n",
      "2024-11-19 14:37:13,177 : INFO : EPOCH 4 - PROGRESS: at 35.10% examples, 103647 words/s, in_qsize 7, out_qsize 0\n",
      "2024-11-19 14:37:14,192 : INFO : EPOCH 4 - PROGRESS: at 51.76% examples, 109984 words/s, in_qsize 7, out_qsize 0\n",
      "2024-11-19 14:37:15,274 : INFO : EPOCH 4 - PROGRESS: at 64.33% examples, 106084 words/s, in_qsize 7, out_qsize 0\n",
      "2024-11-19 14:37:16,307 : INFO : EPOCH 4 - PROGRESS: at 83.18% examples, 110776 words/s, in_qsize 8, out_qsize 0\n",
      "2024-11-19 14:37:17,406 : INFO : EPOCH 4 - PROGRESS: at 97.41% examples, 107660 words/s, in_qsize 2, out_qsize 1\n",
      "2024-11-19 14:37:17,465 : INFO : EPOCH 4: training on 980962 raw words (811226 effective words) took 7.4s, 109002 effective words/s\n",
      "2024-11-19 14:37:17,482 : INFO : Word2Vec lifecycle event {'msg': 'training on 4904810 raw words (4055436 effective words) took 41.9s, 96878 effective words/s', 'datetime': '2024-11-19T14:37:17.480396', 'gensim': '4.3.3', 'python': '3.11.5 (tags/v3.11.5:cce6ba9, Aug 24 2023, 14:38:34) [MSC v.1936 64 bit (AMD64)]', 'platform': 'Windows-10-10.0.22631-SP0', 'event': 'train'}\n",
      "2024-11-19 14:37:17,510 : INFO : Word2Vec lifecycle event {'params': 'Word2Vec<vocab=68351, vector_size=100, alpha=0.025>', 'datetime': '2024-11-19T14:37:17.510523', 'gensim': '4.3.3', 'python': '3.11.5 (tags/v3.11.5:cce6ba9, Aug 24 2023, 14:38:34) [MSC v.1936 64 bit (AMD64)]', 'platform': 'Windows-10-10.0.22631-SP0', 'event': 'created'}\n"
     ]
    },
    {
     "name": "stdout",
     "output_type": "stream",
     "text": [
      "50 kata pertama dalam model Word2Vec:\n",
      "['gojek', 'aplikasi', 'membantu', 'driver', 'bagus', 'mantap', 'banget', 'pakai', 'gopay', 'good', 'food', 'promo', 'tolong', 'kasih', 'sulit', 'cepat', 'akun', 'mahal', 'masuk', 'saldo', 'voucher', 'update', 'biaya', 'mudah', 'pesan', 'drivernya', 'bayar', 'terima', 'suka', 'pelayanan', 'makanan', 'ramah', 'ongkir', 'order', 'kecewa', 'aplikasinya', 'bintang', 'kali', 'pesen', 'terimakasih', 'diskon', 'harga', 'semoga', 'gimana', 'nunggu', 'keren', 'mohon', 'transaksi', 'beli', 'puas']\n",
      "Vektor dokumen pertama: [-0.26194613  0.61944684  0.32508611  0.29659573  0.55117654 -0.30515911\n",
      "  0.38650322  0.7592182  -0.46228532 -0.11831311  0.05625233 -0.38439311\n",
      "  0.14047972  0.43858811  0.30291041 -0.02756839  0.30350796 -0.31406033\n",
      " -0.41579551 -0.78489198  0.59745492  0.1513171   0.46778293 -0.27187592\n",
      " -0.04041696  0.19824135 -0.34811462 -0.81202749 -0.18487929  0.27644725\n",
      "  0.42944291 -0.31161893  0.79760316 -0.19598022 -0.04209159  0.43112054\n",
      " -0.32657023 -0.00590804 -0.04743779 -0.74196772 -0.19717331 -0.0257654\n",
      "  0.10070832  0.20125706  0.58502166 -0.32494136  0.29833265 -0.25467998\n",
      " -0.02734433  0.60342096 -0.27794294 -0.37876357 -0.13640591 -0.29636687\n",
      "  0.13192977  0.19767368  0.48755419  0.1938806  -0.18695591 -0.18616796\n",
      "  0.19146224 -0.06649286  0.22182496 -0.35065537 -0.51639879  0.44998924\n",
      " -0.33985669  0.66200384 -0.31848458  0.47033469 -0.17499527  0.00409392\n",
      "  0.30509067  0.28676731  0.06327426 -0.7629075  -0.02958737 -0.23356313\n",
      " -0.24564814 -0.14736055  0.32338724 -0.19671579 -0.32222158  0.73401054\n",
      "  0.02239598  0.07042857 -0.13692848  0.39900686  0.18962467 -0.1079982\n",
      "  0.22811949 -0.10716739  0.17555456  0.31183864  0.61156547  0.7108284\n",
      " -0.08138095 -0.52024405  0.25701087  0.07266291]\n"
     ]
    }
   ],
   "source": [
    "import pandas as pd\n",
    "import nltk\n",
    "from nltk.tokenize import word_tokenize\n",
    "import string\n",
    "import numpy as np\n",
    "from gensim.models import Word2Vec\n",
    "\n",
    "# Pastikan Anda sudah mendownload 'punkt' untuk tokenisasi\n",
    "nltk.download('punkt')\n",
    "\n",
    "# Fungsi untuk membersihkan dan tokenisasi teks\n",
    "def preprocess(text):\n",
    "    if isinstance(text, str):  # Pastikan text adalah string\n",
    "        text = text.lower()  # Mengubah ke huruf kecil\n",
    "        text = text.translate(str.maketrans('', '', string.punctuation))  # Menghapus tanda baca\n",
    "        return word_tokenize(text)  # Tokenisasi\n",
    "    else:\n",
    "        return []  # Kembalikan list kosong jika bukan string\n",
    "\n",
    "# Membaca dataset\n",
    "df = pd.read_csv('preprocessed_gojek.csv')\n",
    "\n",
    "# Pastikan tidak ada nilai NaN dalam kolom 'finalpreprocess', bisa dihapus atau diganti\n",
    "df['finalpreprocess'] = df['finalpreprocess'].fillna('')  # Mengganti NaN dengan string kosong\n",
    "\n",
    "# Menggabungkan semua teks dari dataset untuk pelatihan (tokenisasi per baris)\n",
    "texts = df['finalpreprocess'].apply(preprocess).tolist()\n",
    "\n",
    "# Melatih model Word2Vec menggunakan Skip-gram\n",
    "word2vec_model = Word2Vec(sentences=texts, vector_size=100, window=5, sg=1, min_count=1, workers=4)\n",
    "\n",
    "# Fungsi untuk menghasilkan vektor representasi dokumen\n",
    "def document_vector(word2vec_model, doc_tokens):\n",
    "    doc_vector = np.zeros(word2vec_model.vector_size)  # Inisialisasi vektor dokumen dengan nol\n",
    "    num_words = 0\n",
    "    for word in doc_tokens:\n",
    "        if word in word2vec_model.wv:  # Memeriksa apakah kata ada dalam vocabulary model\n",
    "            doc_vector += word2vec_model.wv[word]  # Menambahkan vektor kata\n",
    "            num_words += 1\n",
    "    if num_words > 0:  # Jika ada kata yang ditemukan dalam model\n",
    "        doc_vector /= num_words  # Rata-rata vektor kata-kata dalam dokumen\n",
    "    return doc_vector\n",
    "\n",
    "# Menampilkan 50 kata pertama yang ditemukan oleh model\n",
    "words = list(word2vec_model.wv.index_to_key)\n",
    "print(\"50 kata pertama dalam model Word2Vec:\")\n",
    "print(words[:50])\n",
    "\n",
    "# Menggunakan fungsi document_vector pada dokumen pertama sebagai contoh\n",
    "doc_tokens = texts[0]  # Mengambil tokenisasi dari dokumen pertama\n",
    "doc_vector = document_vector(word2vec_model, doc_tokens)\n",
    "print(f\"Vektor dokumen pertama: {doc_vector}\")"
   ]
  },
  {
   "cell_type": "code",
   "execution_count": 54,
   "metadata": {},
   "outputs": [
    {
     "name": "stdout",
     "output_type": "stream",
     "text": [
      "Vocab size 68351\n"
     ]
    }
   ],
   "source": [
    "# Menggunakan 'key_to_index' untuk mendapatkan kata-kata dalam kosakata\n",
    "words = word2vec_model.wv.key_to_index.keys()\n",
    "\n",
    "# Menghitung ukuran kosakata\n",
    "vocab_size = len(words)\n",
    "\n",
    "# Menampilkan ukuran kosakata\n",
    "print(\"Vocab size\", vocab_size)"
   ]
  },
  {
   "cell_type": "code",
   "execution_count": 55,
   "metadata": {
    "id": "C3JZ3RsoiIR3"
   },
   "outputs": [
    {
     "name": "stderr",
     "output_type": "stream",
     "text": [
      "2024-11-19 14:37:35,094 : INFO : Word2Vec lifecycle event {'fname_or_handle': 'word2vec_skipgram.model', 'separately': 'None', 'sep_limit': 10485760, 'ignore': frozenset(), 'datetime': '2024-11-19T14:37:35.092263', 'gensim': '4.3.3', 'python': '3.11.5 (tags/v3.11.5:cce6ba9, Aug 24 2023, 14:38:34) [MSC v.1936 64 bit (AMD64)]', 'platform': 'Windows-10-10.0.22631-SP0', 'event': 'saving'}\n",
      "2024-11-19 14:37:35,144 : INFO : not storing attribute cum_table\n",
      "2024-11-19 14:37:37,094 : INFO : saved word2vec_skipgram.model\n"
     ]
    }
   ],
   "source": [
    "# %% Save the model (optional)\n",
    "word2vec_model.save(\"word2vec_skipgram.model\")"
   ]
  },
  {
   "cell_type": "markdown",
   "metadata": {
    "id": "jSPl9votCIdg"
   },
   "source": [
    "PEMODELAN LSTM"
   ]
  },
  {
   "cell_type": "code",
   "execution_count": 56,
   "metadata": {
    "id": "QC9kWQY9CSQV"
   },
   "outputs": [],
   "source": [
    "from tensorflow.keras.models import Sequential\n",
    "from tensorflow.keras.layers import LSTM, Dropout, Dense"
   ]
  },
  {
   "cell_type": "code",
   "execution_count": 57,
   "metadata": {
    "colab": {
     "base_uri": "https://localhost:8080/"
    },
    "id": "uB0_XOyTCVjN",
    "outputId": "cd92e782-7214-4733-88f6-3a0f995f9015"
   },
   "outputs": [
    {
     "name": "stderr",
     "output_type": "stream",
     "text": [
      "c:\\Users\\Nabilla Yesikal\\AppData\\Local\\Programs\\Python\\Python311\\Lib\\site-packages\\keras\\src\\layers\\rnn\\rnn.py:204: UserWarning: Do not pass an `input_shape`/`input_dim` argument to a layer. When using Sequential models, prefer using an `Input(shape)` object as the first layer in the model instead.\n",
      "  super().__init__(**kwargs)\n"
     ]
    }
   ],
   "source": [
    "# Model dengan dua layer LSTM\n",
    "model = Sequential()\n",
    "model.add(LSTM(100, activation='relu', input_shape=(X_train.shape[1], X_train.shape[2]), return_sequences=True))\n",
    "model.add(LSTM(10, activation='relu'))\n",
    "model.add(Dropout(0.2))\n",
    "model.add(Dense(1, activation='sigmoid'))\n",
    "\n",
    "model.compile(optimizer='adam', loss='binary_crossentropy', metrics=['accuracy'])"
   ]
  },
  {
   "cell_type": "code",
   "execution_count": 58,
   "metadata": {
    "colab": {
     "base_uri": "https://localhost:8080/",
     "height": 261
    },
    "id": "PzDBrJW3NlUF",
    "outputId": "82b11354-3d15-42b0-8f84-eb6e4615605d"
   },
   "outputs": [
    {
     "data": {
      "text/html": [
       "<pre style=\"white-space:pre;overflow-x:auto;line-height:normal;font-family:Menlo,'DejaVu Sans Mono',consolas,'Courier New',monospace\"><span style=\"font-weight: bold\">Model: \"sequential_1\"</span>\n",
       "</pre>\n"
      ],
      "text/plain": [
       "\u001b[1mModel: \"sequential_1\"\u001b[0m\n"
      ]
     },
     "metadata": {},
     "output_type": "display_data"
    },
    {
     "data": {
      "text/html": [
       "<pre style=\"white-space:pre;overflow-x:auto;line-height:normal;font-family:Menlo,'DejaVu Sans Mono',consolas,'Courier New',monospace\">┏━━━━━━━━━━━━━━━━━━━━━━━━━━━━━━━━━┳━━━━━━━━━━━━━━━━━━━━━━━━┳━━━━━━━━━━━━━━━┓\n",
       "┃<span style=\"font-weight: bold\"> Layer (type)                    </span>┃<span style=\"font-weight: bold\"> Output Shape           </span>┃<span style=\"font-weight: bold\">       Param # </span>┃\n",
       "┡━━━━━━━━━━━━━━━━━━━━━━━━━━━━━━━━━╇━━━━━━━━━━━━━━━━━━━━━━━━╇━━━━━━━━━━━━━━━┩\n",
       "│ lstm_2 (<span style=\"color: #0087ff; text-decoration-color: #0087ff\">LSTM</span>)                   │ (<span style=\"color: #00d7ff; text-decoration-color: #00d7ff\">None</span>, <span style=\"color: #00af00; text-decoration-color: #00af00\">1</span>, <span style=\"color: #00af00; text-decoration-color: #00af00\">100</span>)         │        <span style=\"color: #00af00; text-decoration-color: #00af00\">44,400</span> │\n",
       "├─────────────────────────────────┼────────────────────────┼───────────────┤\n",
       "│ lstm_3 (<span style=\"color: #0087ff; text-decoration-color: #0087ff\">LSTM</span>)                   │ (<span style=\"color: #00d7ff; text-decoration-color: #00d7ff\">None</span>, <span style=\"color: #00af00; text-decoration-color: #00af00\">10</span>)             │         <span style=\"color: #00af00; text-decoration-color: #00af00\">4,440</span> │\n",
       "├─────────────────────────────────┼────────────────────────┼───────────────┤\n",
       "│ dropout_1 (<span style=\"color: #0087ff; text-decoration-color: #0087ff\">Dropout</span>)             │ (<span style=\"color: #00d7ff; text-decoration-color: #00d7ff\">None</span>, <span style=\"color: #00af00; text-decoration-color: #00af00\">10</span>)             │             <span style=\"color: #00af00; text-decoration-color: #00af00\">0</span> │\n",
       "├─────────────────────────────────┼────────────────────────┼───────────────┤\n",
       "│ dense_1 (<span style=\"color: #0087ff; text-decoration-color: #0087ff\">Dense</span>)                 │ (<span style=\"color: #00d7ff; text-decoration-color: #00d7ff\">None</span>, <span style=\"color: #00af00; text-decoration-color: #00af00\">1</span>)              │            <span style=\"color: #00af00; text-decoration-color: #00af00\">11</span> │\n",
       "└─────────────────────────────────┴────────────────────────┴───────────────┘\n",
       "</pre>\n"
      ],
      "text/plain": [
       "┏━━━━━━━━━━━━━━━━━━━━━━━━━━━━━━━━━┳━━━━━━━━━━━━━━━━━━━━━━━━┳━━━━━━━━━━━━━━━┓\n",
       "┃\u001b[1m \u001b[0m\u001b[1mLayer (type)                   \u001b[0m\u001b[1m \u001b[0m┃\u001b[1m \u001b[0m\u001b[1mOutput Shape          \u001b[0m\u001b[1m \u001b[0m┃\u001b[1m \u001b[0m\u001b[1m      Param #\u001b[0m\u001b[1m \u001b[0m┃\n",
       "┡━━━━━━━━━━━━━━━━━━━━━━━━━━━━━━━━━╇━━━━━━━━━━━━━━━━━━━━━━━━╇━━━━━━━━━━━━━━━┩\n",
       "│ lstm_2 (\u001b[38;5;33mLSTM\u001b[0m)                   │ (\u001b[38;5;45mNone\u001b[0m, \u001b[38;5;34m1\u001b[0m, \u001b[38;5;34m100\u001b[0m)         │        \u001b[38;5;34m44,400\u001b[0m │\n",
       "├─────────────────────────────────┼────────────────────────┼───────────────┤\n",
       "│ lstm_3 (\u001b[38;5;33mLSTM\u001b[0m)                   │ (\u001b[38;5;45mNone\u001b[0m, \u001b[38;5;34m10\u001b[0m)             │         \u001b[38;5;34m4,440\u001b[0m │\n",
       "├─────────────────────────────────┼────────────────────────┼───────────────┤\n",
       "│ dropout_1 (\u001b[38;5;33mDropout\u001b[0m)             │ (\u001b[38;5;45mNone\u001b[0m, \u001b[38;5;34m10\u001b[0m)             │             \u001b[38;5;34m0\u001b[0m │\n",
       "├─────────────────────────────────┼────────────────────────┼───────────────┤\n",
       "│ dense_1 (\u001b[38;5;33mDense\u001b[0m)                 │ (\u001b[38;5;45mNone\u001b[0m, \u001b[38;5;34m1\u001b[0m)              │            \u001b[38;5;34m11\u001b[0m │\n",
       "└─────────────────────────────────┴────────────────────────┴───────────────┘\n"
      ]
     },
     "metadata": {},
     "output_type": "display_data"
    },
    {
     "data": {
      "text/html": [
       "<pre style=\"white-space:pre;overflow-x:auto;line-height:normal;font-family:Menlo,'DejaVu Sans Mono',consolas,'Courier New',monospace\"><span style=\"font-weight: bold\"> Total params: </span><span style=\"color: #00af00; text-decoration-color: #00af00\">48,851</span> (190.82 KB)\n",
       "</pre>\n"
      ],
      "text/plain": [
       "\u001b[1m Total params: \u001b[0m\u001b[38;5;34m48,851\u001b[0m (190.82 KB)\n"
      ]
     },
     "metadata": {},
     "output_type": "display_data"
    },
    {
     "data": {
      "text/html": [
       "<pre style=\"white-space:pre;overflow-x:auto;line-height:normal;font-family:Menlo,'DejaVu Sans Mono',consolas,'Courier New',monospace\"><span style=\"font-weight: bold\"> Trainable params: </span><span style=\"color: #00af00; text-decoration-color: #00af00\">48,851</span> (190.82 KB)\n",
       "</pre>\n"
      ],
      "text/plain": [
       "\u001b[1m Trainable params: \u001b[0m\u001b[38;5;34m48,851\u001b[0m (190.82 KB)\n"
      ]
     },
     "metadata": {},
     "output_type": "display_data"
    },
    {
     "data": {
      "text/html": [
       "<pre style=\"white-space:pre;overflow-x:auto;line-height:normal;font-family:Menlo,'DejaVu Sans Mono',consolas,'Courier New',monospace\"><span style=\"font-weight: bold\"> Non-trainable params: </span><span style=\"color: #00af00; text-decoration-color: #00af00\">0</span> (0.00 B)\n",
       "</pre>\n"
      ],
      "text/plain": [
       "\u001b[1m Non-trainable params: \u001b[0m\u001b[38;5;34m0\u001b[0m (0.00 B)\n"
      ]
     },
     "metadata": {},
     "output_type": "display_data"
    }
   ],
   "source": [
    "model.summary()"
   ]
  },
  {
   "cell_type": "markdown",
   "metadata": {
    "id": "Vu5LmN7ECZFr"
   },
   "source": [
    "TRAINING MODEL"
   ]
  },
  {
   "cell_type": "code",
   "execution_count": 59,
   "metadata": {
    "colab": {
     "base_uri": "https://localhost:8080/"
    },
    "id": "X1WLtfgoCat1",
    "outputId": "273f1d5e-929e-4981-b44c-dbf56c835995"
   },
   "outputs": [
    {
     "name": "stdout",
     "output_type": "stream",
     "text": [
      "Epoch 1/55\n",
      "\u001b[1m25/25\u001b[0m \u001b[32m━━━━━━━━━━━━━━━━━━━━\u001b[0m\u001b[37m\u001b[0m \u001b[1m16s\u001b[0m 54ms/step - accuracy: 0.4965 - loss: 0.6933 - val_accuracy: 0.4900 - val_loss: 0.6933\n",
      "Epoch 2/55\n",
      "\u001b[1m25/25\u001b[0m \u001b[32m━━━━━━━━━━━━━━━━━━━━\u001b[0m\u001b[37m\u001b[0m \u001b[1m7s\u001b[0m 232ms/step - accuracy: 0.5473 - loss: 0.6924 - val_accuracy: 0.4750 - val_loss: 0.6933\n",
      "Epoch 3/55\n",
      "\u001b[1m25/25\u001b[0m \u001b[32m━━━━━━━━━━━━━━━━━━━━\u001b[0m\u001b[37m\u001b[0m \u001b[1m8s\u001b[0m 132ms/step - accuracy: 0.5571 - loss: 0.6922 - val_accuracy: 0.4900 - val_loss: 0.6934\n",
      "Epoch 4/55\n",
      "\u001b[1m25/25\u001b[0m \u001b[32m━━━━━━━━━━━━━━━━━━━━\u001b[0m\u001b[37m\u001b[0m \u001b[1m2s\u001b[0m 10ms/step - accuracy: 0.5651 - loss: 0.6918 - val_accuracy: 0.5050 - val_loss: 0.6935\n",
      "Epoch 5/55\n",
      "\u001b[1m25/25\u001b[0m \u001b[32m━━━━━━━━━━━━━━━━━━━━\u001b[0m\u001b[37m\u001b[0m \u001b[1m1s\u001b[0m 17ms/step - accuracy: 0.5649 - loss: 0.6914 - val_accuracy: 0.5250 - val_loss: 0.6934\n",
      "Epoch 6/55\n",
      "\u001b[1m25/25\u001b[0m \u001b[32m━━━━━━━━━━━━━━━━━━━━\u001b[0m\u001b[37m\u001b[0m \u001b[1m1s\u001b[0m 15ms/step - accuracy: 0.5322 - loss: 0.6909 - val_accuracy: 0.5100 - val_loss: 0.6936\n",
      "Epoch 7/55\n",
      "\u001b[1m25/25\u001b[0m \u001b[32m━━━━━━━━━━━━━━━━━━━━\u001b[0m\u001b[37m\u001b[0m \u001b[1m1s\u001b[0m 9ms/step - accuracy: 0.6030 - loss: 0.6876 - val_accuracy: 0.5150 - val_loss: 0.6936\n",
      "Epoch 8/55\n",
      "\u001b[1m25/25\u001b[0m \u001b[32m━━━━━━━━━━━━━━━━━━━━\u001b[0m\u001b[37m\u001b[0m \u001b[1m0s\u001b[0m 9ms/step - accuracy: 0.5705 - loss: 0.6846 - val_accuracy: 0.5050 - val_loss: 0.6932\n",
      "Epoch 9/55\n",
      "\u001b[1m25/25\u001b[0m \u001b[32m━━━━━━━━━━━━━━━━━━━━\u001b[0m\u001b[37m\u001b[0m \u001b[1m0s\u001b[0m 10ms/step - accuracy: 0.5729 - loss: 0.6837 - val_accuracy: 0.4850 - val_loss: 0.6937\n",
      "Epoch 10/55\n",
      "\u001b[1m25/25\u001b[0m \u001b[32m━━━━━━━━━━━━━━━━━━━━\u001b[0m\u001b[37m\u001b[0m \u001b[1m0s\u001b[0m 9ms/step - accuracy: 0.5911 - loss: 0.6800 - val_accuracy: 0.5050 - val_loss: 0.6938\n",
      "Epoch 11/55\n",
      "\u001b[1m25/25\u001b[0m \u001b[32m━━━━━━━━━━━━━━━━━━━━\u001b[0m\u001b[37m\u001b[0m \u001b[1m0s\u001b[0m 10ms/step - accuracy: 0.5832 - loss: 0.6732 - val_accuracy: 0.4850 - val_loss: 0.6936\n",
      "Epoch 12/55\n",
      "\u001b[1m25/25\u001b[0m \u001b[32m━━━━━━━━━━━━━━━━━━━━\u001b[0m\u001b[37m\u001b[0m \u001b[1m0s\u001b[0m 9ms/step - accuracy: 0.5891 - loss: 0.6648 - val_accuracy: 0.5150 - val_loss: 0.6949\n",
      "Epoch 13/55\n",
      "\u001b[1m25/25\u001b[0m \u001b[32m━━━━━━━━━━━━━━━━━━━━\u001b[0m\u001b[37m\u001b[0m \u001b[1m0s\u001b[0m 12ms/step - accuracy: 0.5708 - loss: 0.6792 - val_accuracy: 0.4850 - val_loss: 0.6957\n",
      "Epoch 14/55\n",
      "\u001b[1m25/25\u001b[0m \u001b[32m━━━━━━━━━━━━━━━━━━━━\u001b[0m\u001b[37m\u001b[0m \u001b[1m1s\u001b[0m 19ms/step - accuracy: 0.6095 - loss: 0.6686 - val_accuracy: 0.4950 - val_loss: 0.6961\n",
      "Epoch 15/55\n",
      "\u001b[1m25/25\u001b[0m \u001b[32m━━━━━━━━━━━━━━━━━━━━\u001b[0m\u001b[37m\u001b[0m \u001b[1m0s\u001b[0m 9ms/step - accuracy: 0.6184 - loss: 0.6531 - val_accuracy: 0.4800 - val_loss: 0.6999\n",
      "Epoch 16/55\n",
      "\u001b[1m25/25\u001b[0m \u001b[32m━━━━━━━━━━━━━━━━━━━━\u001b[0m\u001b[37m\u001b[0m \u001b[1m1s\u001b[0m 14ms/step - accuracy: 0.6004 - loss: 0.6679 - val_accuracy: 0.5200 - val_loss: 0.7019\n",
      "Epoch 17/55\n",
      "\u001b[1m25/25\u001b[0m \u001b[32m━━━━━━━━━━━━━━━━━━━━\u001b[0m\u001b[37m\u001b[0m \u001b[1m1s\u001b[0m 11ms/step - accuracy: 0.6499 - loss: 0.6436 - val_accuracy: 0.5250 - val_loss: 0.7052\n",
      "Epoch 18/55\n",
      "\u001b[1m25/25\u001b[0m \u001b[32m━━━━━━━━━━━━━━━━━━━━\u001b[0m\u001b[37m\u001b[0m \u001b[1m1s\u001b[0m 18ms/step - accuracy: 0.6436 - loss: 0.6471 - val_accuracy: 0.5200 - val_loss: 0.7089\n",
      "Epoch 19/55\n",
      "\u001b[1m25/25\u001b[0m \u001b[32m━━━━━━━━━━━━━━━━━━━━\u001b[0m\u001b[37m\u001b[0m \u001b[1m1s\u001b[0m 12ms/step - accuracy: 0.6716 - loss: 0.6423 - val_accuracy: 0.4850 - val_loss: 0.7139\n",
      "Epoch 20/55\n",
      "\u001b[1m25/25\u001b[0m \u001b[32m━━━━━━━━━━━━━━━━━━━━\u001b[0m\u001b[37m\u001b[0m \u001b[1m0s\u001b[0m 10ms/step - accuracy: 0.6693 - loss: 0.6279 - val_accuracy: 0.5100 - val_loss: 0.7171\n",
      "Epoch 21/55\n",
      "\u001b[1m25/25\u001b[0m \u001b[32m━━━━━━━━━━━━━━━━━━━━\u001b[0m\u001b[37m\u001b[0m \u001b[1m0s\u001b[0m 16ms/step - accuracy: 0.6482 - loss: 0.6400 - val_accuracy: 0.4900 - val_loss: 0.7204\n",
      "Epoch 22/55\n",
      "\u001b[1m25/25\u001b[0m \u001b[32m━━━━━━━━━━━━━━━━━━━━\u001b[0m\u001b[37m\u001b[0m \u001b[1m1s\u001b[0m 17ms/step - accuracy: 0.6785 - loss: 0.6244 - val_accuracy: 0.5100 - val_loss: 0.7211\n",
      "Epoch 23/55\n",
      "\u001b[1m25/25\u001b[0m \u001b[32m━━━━━━━━━━━━━━━━━━━━\u001b[0m\u001b[37m\u001b[0m \u001b[1m0s\u001b[0m 15ms/step - accuracy: 0.6370 - loss: 0.6359 - val_accuracy: 0.4850 - val_loss: 0.7273\n",
      "Epoch 24/55\n",
      "\u001b[1m25/25\u001b[0m \u001b[32m━━━━━━━━━━━━━━━━━━━━\u001b[0m\u001b[37m\u001b[0m \u001b[1m1s\u001b[0m 10ms/step - accuracy: 0.6272 - loss: 0.6345 - val_accuracy: 0.4800 - val_loss: 0.7294\n",
      "Epoch 25/55\n",
      "\u001b[1m25/25\u001b[0m \u001b[32m━━━━━━━━━━━━━━━━━━━━\u001b[0m\u001b[37m\u001b[0m \u001b[1m1s\u001b[0m 16ms/step - accuracy: 0.6775 - loss: 0.6325 - val_accuracy: 0.4850 - val_loss: 0.7364\n",
      "Epoch 26/55\n",
      "\u001b[1m25/25\u001b[0m \u001b[32m━━━━━━━━━━━━━━━━━━━━\u001b[0m\u001b[37m\u001b[0m \u001b[1m1s\u001b[0m 14ms/step - accuracy: 0.6480 - loss: 0.6235 - val_accuracy: 0.4850 - val_loss: 0.7368\n",
      "Epoch 27/55\n",
      "\u001b[1m25/25\u001b[0m \u001b[32m━━━━━━━━━━━━━━━━━━━━\u001b[0m\u001b[37m\u001b[0m \u001b[1m1s\u001b[0m 33ms/step - accuracy: 0.6597 - loss: 0.6199 - val_accuracy: 0.4700 - val_loss: 0.7437\n",
      "Epoch 28/55\n",
      "\u001b[1m25/25\u001b[0m \u001b[32m━━━━━━━━━━━━━━━━━━━━\u001b[0m\u001b[37m\u001b[0m \u001b[1m0s\u001b[0m 9ms/step - accuracy: 0.6354 - loss: 0.6326 - val_accuracy: 0.4600 - val_loss: 0.7473\n",
      "Epoch 29/55\n",
      "\u001b[1m25/25\u001b[0m \u001b[32m━━━━━━━━━━━━━━━━━━━━\u001b[0m\u001b[37m\u001b[0m \u001b[1m1s\u001b[0m 24ms/step - accuracy: 0.6613 - loss: 0.6109 - val_accuracy: 0.4650 - val_loss: 0.7551\n",
      "Epoch 30/55\n",
      "\u001b[1m25/25\u001b[0m \u001b[32m━━━━━━━━━━━━━━━━━━━━\u001b[0m\u001b[37m\u001b[0m \u001b[1m0s\u001b[0m 13ms/step - accuracy: 0.6688 - loss: 0.6172 - val_accuracy: 0.4600 - val_loss: 0.7580\n",
      "Epoch 31/55\n",
      "\u001b[1m25/25\u001b[0m \u001b[32m━━━━━━━━━━━━━━━━━━━━\u001b[0m\u001b[37m\u001b[0m \u001b[1m0s\u001b[0m 11ms/step - accuracy: 0.6977 - loss: 0.5950 - val_accuracy: 0.4550 - val_loss: 0.7647\n",
      "Epoch 32/55\n",
      "\u001b[1m25/25\u001b[0m \u001b[32m━━━━━━━━━━━━━━━━━━━━\u001b[0m\u001b[37m\u001b[0m \u001b[1m0s\u001b[0m 10ms/step - accuracy: 0.6614 - loss: 0.6005 - val_accuracy: 0.4500 - val_loss: 0.7688\n",
      "Epoch 33/55\n",
      "\u001b[1m25/25\u001b[0m \u001b[32m━━━━━━━━━━━━━━━━━━━━\u001b[0m\u001b[37m\u001b[0m \u001b[1m0s\u001b[0m 10ms/step - accuracy: 0.6734 - loss: 0.6115 - val_accuracy: 0.4700 - val_loss: 0.7725\n",
      "Epoch 34/55\n",
      "\u001b[1m25/25\u001b[0m \u001b[32m━━━━━━━━━━━━━━━━━━━━\u001b[0m\u001b[37m\u001b[0m \u001b[1m0s\u001b[0m 9ms/step - accuracy: 0.6481 - loss: 0.6141 - val_accuracy: 0.4450 - val_loss: 0.7801\n",
      "Epoch 35/55\n",
      "\u001b[1m25/25\u001b[0m \u001b[32m━━━━━━━━━━━━━━━━━━━━\u001b[0m\u001b[37m\u001b[0m \u001b[1m0s\u001b[0m 10ms/step - accuracy: 0.6819 - loss: 0.6100 - val_accuracy: 0.4700 - val_loss: 0.7804\n",
      "Epoch 36/55\n",
      "\u001b[1m25/25\u001b[0m \u001b[32m━━━━━━━━━━━━━━━━━━━━\u001b[0m\u001b[37m\u001b[0m \u001b[1m1s\u001b[0m 11ms/step - accuracy: 0.6881 - loss: 0.5892 - val_accuracy: 0.4600 - val_loss: 0.7835\n",
      "Epoch 37/55\n",
      "\u001b[1m25/25\u001b[0m \u001b[32m━━━━━━━━━━━━━━━━━━━━\u001b[0m\u001b[37m\u001b[0m \u001b[1m0s\u001b[0m 9ms/step - accuracy: 0.6876 - loss: 0.6035 - val_accuracy: 0.4700 - val_loss: 0.7853\n",
      "Epoch 38/55\n",
      "\u001b[1m25/25\u001b[0m \u001b[32m━━━━━━━━━━━━━━━━━━━━\u001b[0m\u001b[37m\u001b[0m \u001b[1m0s\u001b[0m 10ms/step - accuracy: 0.6755 - loss: 0.6038 - val_accuracy: 0.4750 - val_loss: 0.7864\n",
      "Epoch 39/55\n",
      "\u001b[1m25/25\u001b[0m \u001b[32m━━━━━━━━━━━━━━━━━━━━\u001b[0m\u001b[37m\u001b[0m \u001b[1m0s\u001b[0m 9ms/step - accuracy: 0.6735 - loss: 0.6044 - val_accuracy: 0.4600 - val_loss: 0.7939\n",
      "Epoch 40/55\n",
      "\u001b[1m25/25\u001b[0m \u001b[32m━━━━━━━━━━━━━━━━━━━━\u001b[0m\u001b[37m\u001b[0m \u001b[1m0s\u001b[0m 10ms/step - accuracy: 0.6567 - loss: 0.6056 - val_accuracy: 0.4700 - val_loss: 0.7931\n",
      "Epoch 41/55\n",
      "\u001b[1m25/25\u001b[0m \u001b[32m━━━━━━━━━━━━━━━━━━━━\u001b[0m\u001b[37m\u001b[0m \u001b[1m0s\u001b[0m 9ms/step - accuracy: 0.6993 - loss: 0.5785 - val_accuracy: 0.4800 - val_loss: 0.7968\n",
      "Epoch 42/55\n",
      "\u001b[1m25/25\u001b[0m \u001b[32m━━━━━━━━━━━━━━━━━━━━\u001b[0m\u001b[37m\u001b[0m \u001b[1m0s\u001b[0m 11ms/step - accuracy: 0.7155 - loss: 0.5770 - val_accuracy: 0.4800 - val_loss: 0.7998\n",
      "Epoch 43/55\n",
      "\u001b[1m25/25\u001b[0m \u001b[32m━━━━━━━━━━━━━━━━━━━━\u001b[0m\u001b[37m\u001b[0m \u001b[1m0s\u001b[0m 11ms/step - accuracy: 0.6966 - loss: 0.5817 - val_accuracy: 0.4750 - val_loss: 0.8084\n",
      "Epoch 44/55\n",
      "\u001b[1m25/25\u001b[0m \u001b[32m━━━━━━━━━━━━━━━━━━━━\u001b[0m\u001b[37m\u001b[0m \u001b[1m1s\u001b[0m 10ms/step - accuracy: 0.7128 - loss: 0.5636 - val_accuracy: 0.4800 - val_loss: 0.8128\n",
      "Epoch 45/55\n",
      "\u001b[1m25/25\u001b[0m \u001b[32m━━━━━━━━━━━━━━━━━━━━\u001b[0m\u001b[37m\u001b[0m \u001b[1m0s\u001b[0m 11ms/step - accuracy: 0.6861 - loss: 0.5866 - val_accuracy: 0.4850 - val_loss: 0.8169\n",
      "Epoch 46/55\n",
      "\u001b[1m25/25\u001b[0m \u001b[32m━━━━━━━━━━━━━━━━━━━━\u001b[0m\u001b[37m\u001b[0m \u001b[1m1s\u001b[0m 11ms/step - accuracy: 0.6968 - loss: 0.5708 - val_accuracy: 0.4650 - val_loss: 0.8126\n",
      "Epoch 47/55\n",
      "\u001b[1m25/25\u001b[0m \u001b[32m━━━━━━━━━━━━━━━━━━━━\u001b[0m\u001b[37m\u001b[0m \u001b[1m1s\u001b[0m 24ms/step - accuracy: 0.6983 - loss: 0.5575 - val_accuracy: 0.4600 - val_loss: 0.8271\n",
      "Epoch 48/55\n",
      "\u001b[1m25/25\u001b[0m \u001b[32m━━━━━━━━━━━━━━━━━━━━\u001b[0m\u001b[37m\u001b[0m \u001b[1m1s\u001b[0m 19ms/step - accuracy: 0.7172 - loss: 0.5697 - val_accuracy: 0.4750 - val_loss: 0.8255\n",
      "Epoch 49/55\n",
      "\u001b[1m25/25\u001b[0m \u001b[32m━━━━━━━━━━━━━━━━━━━━\u001b[0m\u001b[37m\u001b[0m \u001b[1m0s\u001b[0m 10ms/step - accuracy: 0.7061 - loss: 0.5713 - val_accuracy: 0.4600 - val_loss: 0.8320\n",
      "Epoch 50/55\n",
      "\u001b[1m25/25\u001b[0m \u001b[32m━━━━━━━━━━━━━━━━━━━━\u001b[0m\u001b[37m\u001b[0m \u001b[1m1s\u001b[0m 16ms/step - accuracy: 0.7355 - loss: 0.5549 - val_accuracy: 0.4800 - val_loss: 0.8247\n",
      "Epoch 51/55\n",
      "\u001b[1m25/25\u001b[0m \u001b[32m━━━━━━━━━━━━━━━━━━━━\u001b[0m\u001b[37m\u001b[0m \u001b[1m0s\u001b[0m 16ms/step - accuracy: 0.7223 - loss: 0.5566 - val_accuracy: 0.4900 - val_loss: 0.8315\n",
      "Epoch 52/55\n",
      "\u001b[1m25/25\u001b[0m \u001b[32m━━━━━━━━━━━━━━━━━━━━\u001b[0m\u001b[37m\u001b[0m \u001b[1m0s\u001b[0m 14ms/step - accuracy: 0.7054 - loss: 0.5563 - val_accuracy: 0.5000 - val_loss: 0.8326\n",
      "Epoch 53/55\n",
      "\u001b[1m25/25\u001b[0m \u001b[32m━━━━━━━━━━━━━━━━━━━━\u001b[0m\u001b[37m\u001b[0m \u001b[1m1s\u001b[0m 12ms/step - accuracy: 0.7163 - loss: 0.5516 - val_accuracy: 0.4850 - val_loss: 0.8385\n",
      "Epoch 54/55\n",
      "\u001b[1m25/25\u001b[0m \u001b[32m━━━━━━━━━━━━━━━━━━━━\u001b[0m\u001b[37m\u001b[0m \u001b[1m1s\u001b[0m 11ms/step - accuracy: 0.7170 - loss: 0.5546 - val_accuracy: 0.4550 - val_loss: 0.8465\n",
      "Epoch 55/55\n",
      "\u001b[1m25/25\u001b[0m \u001b[32m━━━━━━━━━━━━━━━━━━━━\u001b[0m\u001b[37m\u001b[0m \u001b[1m0s\u001b[0m 11ms/step - accuracy: 0.7229 - loss: 0.5531 - val_accuracy: 0.4950 - val_loss: 0.8391\n"
     ]
    }
   ],
   "source": [
    "# Melatih model\n",
    "history = model.fit(X_train, Y_train, epochs=55, batch_size=32, validation_data=(X_test, Y_test))"
   ]
  },
  {
   "cell_type": "code",
   "execution_count": 60,
   "metadata": {
    "id": "ApU97SDruC4k"
   },
   "outputs": [],
   "source": [
    "# Ensure Y_test is a 1D array\n",
    "if len(Y_test.shape) > 1:\n",
    "    Y_test = Y_test.flatten()"
   ]
  },
  {
   "cell_type": "code",
   "execution_count": 61,
   "metadata": {
    "colab": {
     "base_uri": "https://localhost:8080/"
    },
    "id": "8OLIv4g7O2RL",
    "outputId": "ed53f4f7-0632-4350-a061-af72aa03f13c"
   },
   "outputs": [
    {
     "name": "stdout",
     "output_type": "stream",
     "text": [
      "7/7 - 0s - 22ms/step - accuracy: 0.4950 - loss: 0.8391\n",
      "\u001b[1m7/7\u001b[0m \u001b[32m━━━━━━━━━━━━━━━━━━━━\u001b[0m\u001b[37m\u001b[0m \u001b[1m3s\u001b[0m 222ms/step\n"
     ]
    }
   ],
   "source": [
    "accuracy = model.evaluate(X_test, Y_test, verbose=2, batch_size=32)\n",
    "# Predict on the test data\n",
    "Y_pred = model.predict(X_test)  # Predict probabilities\n",
    "Y_pred_classes = np.argmax(Y_pred, axis=1) if Y_pred.ndim > 1 else (Y_pred > 0.5).astype(int).flatten()\n",
    "\n",
    "# Ensure Y_test is 1D\n",
    "if Y_test.ndim > 1:\n",
    "    Y_test = np.argmax(Y_test, axis=1)\n",
    "else:\n",
    "    Y_test = Y_test.flatten()"
   ]
  },
  {
   "cell_type": "code",
   "execution_count": 62,
   "metadata": {
    "colab": {
     "base_uri": "https://localhost:8080/"
    },
    "id": "FLEs9z3zPGWB",
    "outputId": "ea1a120c-385d-4e4f-9fad-ea76b95ee000"
   },
   "outputs": [
    {
     "name": "stderr",
     "output_type": "stream",
     "text": [
      "2024-11-19 14:40:33,031 : WARNING : You are saving your model as an HDF5 file via `model.save()` or `keras.saving.save_model(model)`. This file format is considered legacy. We recommend using instead the native Keras format, e.g. `model.save('my_model.keras')` or `keras.saving.save_model(model, 'my_model.keras')`. \n"
     ]
    }
   ],
   "source": [
    "model.save('TestModelLSTMFix.h5')"
   ]
  },
  {
   "cell_type": "code",
   "execution_count": 63,
   "metadata": {
    "id": "7KqqDHIvzo_W"
   },
   "outputs": [],
   "source": [
    "import pickle\n",
    "# Save the tokenizer\n",
    "with open(\"tokenizer.pkl\", \"wb\") as handle:\n",
    "    pickle.dump(tokenizer, handle)"
   ]
  },
  {
   "cell_type": "code",
   "execution_count": 209,
   "metadata": {
    "colab": {
     "base_uri": "https://localhost:8080/"
    },
    "id": "h1l4rWjcNzYs",
    "outputId": "056abf71-d781-472c-976f-e35885f657cb"
   },
   "outputs": [
    {
     "name": "stdout",
     "output_type": "stream",
     "text": [
      "\u001b[1m25/25\u001b[0m \u001b[32m━━━━━━━━━━━━━━━━━━━━\u001b[0m\u001b[37m\u001b[0m \u001b[1m0s\u001b[0m 2ms/step \n",
      "\u001b[1m7/7\u001b[0m \u001b[32m━━━━━━━━━━━━━━━━━━━━\u001b[0m\u001b[37m\u001b[0m \u001b[1m0s\u001b[0m 3ms/step \n"
     ]
    }
   ],
   "source": [
    "# Predict on the training set\n",
    "Y_train_pred = model.predict(X_train)\n",
    "Y_train_pred_class = (Y_train_pred > 0.5)\n",
    "\n",
    "# Predict on the testing set\n",
    "Y_test_pred = model.predict(X_test)\n",
    "Y_test_pred_class = (Y_test_pred > 0.5)"
   ]
  },
  {
   "cell_type": "code",
   "execution_count": 210,
   "metadata": {
    "id": "-uE9cNDawe2I"
   },
   "outputs": [],
   "source": [
    "from sklearn.metrics import confusion_matrix, classification_report\n",
    "\n",
    "# Convert Y_pred probabilities to binary class predictions\n",
    "Y_pred_classes = (Y_pred > 0.5).astype(int).flatten()  # Thresholding at 0.5\n",
    "\n",
    "# Ensure Y_test is also in binary class form\n",
    "if Y_test.ndim > 1:  # If Y_test is one-hot encoded, convert to label\n",
    "    Y_test = np.argmax(Y_test, axis=1)\n",
    "else:\n",
    "    Y_test = Y_test.flatten()"
   ]
  },
  {
   "cell_type": "markdown",
   "metadata": {
    "id": "HKJnjxdAMiF1"
   },
   "source": [
    "CONFUSSION MATRIX"
   ]
  },
  {
   "cell_type": "code",
   "execution_count": 211,
   "metadata": {
    "id": "SFjbDr83NFrD"
   },
   "outputs": [],
   "source": [
    "from sklearn.metrics import confusion_matrix, ConfusionMatrixDisplay\n",
    "import matplotlib.pyplot as plt\n",
    "from sklearn.metrics import classification_report, confusion_matrix, roc_curve, auc\n",
    "import seaborn as sns"
   ]
  },
  {
   "cell_type": "code",
   "execution_count": 212,
   "metadata": {
    "colab": {
     "base_uri": "https://localhost:8080/"
    },
    "id": "KiiWhR2gPOG0",
    "outputId": "0d63d1f2-662d-47cc-c373-08725d8d7735"
   },
   "outputs": [
    {
     "name": "stdout",
     "output_type": "stream",
     "text": [
      "\n",
      "Confusion Matrix:\n",
      "[[37 55]\n",
      " [55 53]]\n"
     ]
    }
   ],
   "source": [
    "from sklearn.metrics import confusion_matrix, classification_report\n",
    "cm = confusion_matrix(Y_test, Y_pred_classes)\n",
    "print(\"\\nConfusion Matrix:\")\n",
    "print(cm)"
   ]
  },
  {
   "cell_type": "code",
   "execution_count": 213,
   "metadata": {
    "colab": {
     "base_uri": "https://localhost:8080/",
     "height": 410
    },
    "id": "zYgO7rxtMkAJ",
    "outputId": "1214d8e6-2bf1-461f-be38-af8182680b00"
   },
   "outputs": [
    {
     "data": {
      "image/png": "[encoded data removed]",
      "text/plain": [
       "<Figure size 600x400 with 2 Axes>"
      ]
     },
     "metadata": {},
     "output_type": "display_data"
    }
   ],
   "source": [
    "cm = confusion_matrix(Y_test, Y_pred_classes)\n",
    "plt.figure(figsize=(6,4))\n",
    "sns.heatmap(cm, annot=True, fmt='d', cmap='Blues', xticklabels=['Negatif', 'Positif', 'Netral'], yticklabels=['Negatif', 'Positif', 'Netral'])\n",
    "plt.ylabel('Actual')\n",
    "plt.xlabel('Predicted')\n",
    "plt.title('Confusion Matrix')\n",
    "plt.show()"
   ]
  },
  {
   "cell_type": "markdown",
   "metadata": {
    "id": "wmrtl8ShOSdE"
   },
   "source": [
    "RUC CURVE AND AOV"
   ]
  },
  {
   "cell_type": "code",
   "execution_count": 214,
   "metadata": {
    "colab": {
     "base_uri": "https://localhost:8080/",
     "height": 581
    },
    "id": "Ml7EchuQOUaa",
    "outputId": "283f7c79-1df4-4246-de3f-dc68e76b733a"
   },
   "outputs": [
    {
     "name": "stdout",
     "output_type": "stream",
     "text": [
      "\u001b[1m7/7\u001b[0m \u001b[32m━━━━━━━━━━━━━━━━━━━━\u001b[0m\u001b[37m\u001b[0m \u001b[1m0s\u001b[0m 2ms/step \n"
     ]
    },
    {
     "data": {
      "image/png": "[encoded data removed]",
      "text/plain": [
       "<Figure size 800x600 with 1 Axes>"
      ]
     },
     "metadata": {},
     "output_type": "display_data"
    }
   ],
   "source": [
    "from sklearn.metrics import roc_curve, auc\n",
    "import matplotlib.pyplot as plt\n",
    "\n",
    "# Ensure Y_pred contains probabilities\n",
    "Y_pred_prob = model.predict(X_test)  # Predict probabilities\n",
    "\n",
    "# If it's binary classification, flatten the predictions\n",
    "if Y_pred_prob.ndim > 1:\n",
    "    Y_pred_prob = Y_pred_prob[:, 0]  # Use probabilities for the positive class\n",
    "\n",
    "# Compute ROC curve and AUC\n",
    "fpr, tpr, thresholds = roc_curve(Y_test, Y_pred_prob)\n",
    "roc_auc = auc(fpr, tpr)\n",
    "\n",
    "# Plot the ROC curve\n",
    "plt.figure(figsize=(8, 6))\n",
    "plt.plot(fpr, tpr, color='darkorange', lw=2, label=f'ROC Curve (AUC = {roc_auc:.2f})')\n",
    "plt.plot([0, 1], [0, 1], color='navy', lw=2, linestyle='--', label='Random Guess')\n",
    "plt.xlabel('False Positive Rate')\n",
    "plt.ylabel('True Positive Rate')\n",
    "plt.title('Receiver Operating Characteristic (ROC) Curve')\n",
    "plt.legend(loc='lower right')\n",
    "plt.show()"
   ]
  },
  {
   "cell_type": "markdown",
   "metadata": {
    "id": "rCEvR3biOaIY"
   },
   "source": [
    "VISUALISASI HISTORY TRAINING"
   ]
  },
  {
   "cell_type": "code",
   "execution_count": 215,
   "metadata": {
    "colab": {
     "base_uri": "https://localhost:8080/",
     "height": 52
    },
    "id": "UEpVel4COcsf",
    "outputId": "444e8de6-2b5c-43ca-faf5-903bbe4adad9"
   },
   "outputs": [
    {
     "data": {
      "text/plain": [
       "<Figure size 1400x600 with 0 Axes>"
      ]
     },
     "execution_count": 215,
     "metadata": {},
     "output_type": "execute_result"
    },
    {
     "data": {
      "text/plain": [
       "<Figure size 1400x600 with 0 Axes>"
      ]
     },
     "metadata": {},
     "output_type": "display_data"
    }
   ],
   "source": [
    "history_df = pd.DataFrame(history.history)\n",
    "\n",
    "plt.figure(figsize=(14,6))"
   ]
  },
  {
   "cell_type": "markdown",
   "metadata": {
    "id": "-CTd-J4hOh-g"
   },
   "source": [
    "PLOT LOSS"
   ]
  },
  {
   "cell_type": "code",
   "execution_count": 216,
   "metadata": {
    "colab": {
     "base_uri": "https://localhost:8080/",
     "height": 489
    },
    "id": "6Ole0xF5Ojds",
    "outputId": "10f21df5-0505-4a99-927e-188ba346d3d1"
   },
   "outputs": [
    {
     "data": {
      "text/plain": [
       "<matplotlib.legend.Legend at 0x7ef30ec41bd0>"
      ]
     },
     "execution_count": 216,
     "metadata": {},
     "output_type": "execute_result"
    },
    {
     "data": {
      "image/png": "[encoded data removed]",
      "text/plain": [
       "<Figure size 640x480 with 1 Axes>"
      ]
     },
     "metadata": {},
     "output_type": "display_data"
    }
   ],
   "source": [
    "plt.subplot(1, 2, 1)\n",
    "plt.plot(history_df['loss'], label='Training Loss')\n",
    "plt.plot(history_df['val_loss'], label='Validation Loss')\n",
    "plt.title('Loss selama Training dan Validasi')\n",
    "plt.xlabel('Epoch')\n",
    "plt.ylabel('Loss')\n",
    "plt.legend()"
   ]
  },
  {
   "cell_type": "markdown",
   "metadata": {
    "id": "jk9BHUxTOoFb"
   },
   "source": [
    "PLOT AKURASI"
   ]
  },
  {
   "cell_type": "code",
   "execution_count": 217,
   "metadata": {
    "colab": {
     "base_uri": "https://localhost:8080/",
     "height": 487
    },
    "id": "uOHhiEW7OpJS",
    "outputId": "28a75f7f-ea35-4b99-9af7-ad383f449956"
   },
   "outputs": [
    {
     "data": {
      "image/png": "[encoded data removed]",
      "text/plain": [
       "<Figure size 640x480 with 1 Axes>"
      ]
     },
     "metadata": {},
     "output_type": "display_data"
    }
   ],
   "source": [
    "plt.subplot(1, 2, 2)\n",
    "plt.plot(history_df['accuracy'], label='Training Accuracy')\n",
    "plt.plot(history_df['val_accuracy'], label='Validation Accuracy')\n",
    "plt.title('Akurasi selama Training dan Validasi')\n",
    "plt.xlabel('Epoch')\n",
    "plt.ylabel('Akurasi')\n",
    "plt.legend()\n",
    "\n",
    "plt.tight_layout()\n",
    "plt.show()"
   ]
  },
  {
   "cell_type": "code",
   "execution_count": 218,
   "metadata": {
    "colab": {
     "base_uri": "https://localhost:8080/"
    },
    "id": "wNOCMgl1xj9K",
    "outputId": "8779e2d9-5c37-4d1f-a1c9-50dc4b37d926"
   },
   "outputs": [
    {
     "name": "stdout",
     "output_type": "stream",
     "text": [
      "\n",
      "Classification Report (Training Data):\n",
      "              precision    recall  f1-score   support\n",
      "\n",
      "           0       0.83      0.78      0.80       392\n",
      "           1       0.80      0.85      0.82       408\n",
      "\n",
      "    accuracy                           0.81       800\n",
      "   macro avg       0.81      0.81      0.81       800\n",
      "weighted avg       0.81      0.81      0.81       800\n",
      "\n",
      "\n",
      "Classification Report (Testing Data):\n",
      "              precision    recall  f1-score   support\n",
      "\n",
      "           0       0.40      0.40      0.40        92\n",
      "           1       0.49      0.49      0.49       108\n",
      "\n",
      "    accuracy                           0.45       200\n",
      "   macro avg       0.45      0.45      0.45       200\n",
      "weighted avg       0.45      0.45      0.45       200\n",
      "\n"
     ]
    }
   ],
   "source": [
    "# Classification report for training data\n",
    "print(\"\\nClassification Report (Training Data):\")\n",
    "print(classification_report(Y_train, Y_train_pred_class))\n",
    "\n",
    "# Classification report for testing data\n",
    "print(\"\\nClassification Report (Testing Data):\")\n",
    "print(classification_report(Y_test, Y_test_pred_class))"
   ]
  }
 ],
 "metadata": {
  "colab": {
   "provenance": []
  },
  "kernelspec": {
   "display_name": "Python 3",
   "name": "python3"
  },
  "language_info": {
   "codemirror_mode": {
    "name": "ipython",
    "version": 3
   },
   "file_extension": ".py",
   "mimetype": "text/x-python",
   "name": "python",
   "nbconvert_exporter": "python",
   "pygments_lexer": "ipython3",
   "version": "3.11.5"
  }
 },
 "nbformat": 4,
 "nbformat_minor": 0
}
